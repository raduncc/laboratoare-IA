{
  "nbformat": 4,
  "nbformat_minor": 0,
  "metadata": {
    "kernelspec": {
      "display_name": "Python 3",
      "language": "python",
      "name": "python3"
    },
    "language_info": {
      "codemirror_mode": {
        "name": "ipython",
        "version": 3
      },
      "file_extension": ".py",
      "mimetype": "text/x-python",
      "name": "python",
      "nbconvert_exporter": "python",
      "pygments_lexer": "ipython3",
      "version": "3.7.4"
    },
    "colab": {
      "name": "Lab10-VariableElimination-Skel.ipynb",
      "provenance": [],
      "collapsed_sections": []
    }
  },
  "cells": [
    {
      "cell_type": "markdown",
      "metadata": {
        "id": "AkfQRVvZ9x1p"
      },
      "source": [
        "# Inferențe în modele probabilistice: Eliminarea variabilelor\n",
        "    Tudor Berariu, 2017\n",
        "\n",
        "Laboratorul precedent a prezentat câteva aspecte teoretice despre rețele Bayesiene. În practică, pentru folosirea lor se conturează câteva probleme:\n",
        "\n",
        " - estimarea structurii (a numărului de variabile și a legăturilor directe dintre acestea)\n",
        " - estimarea parametrilor (a tabelelor de distribuții de probabilități condiționate)\n",
        " - inferențe (calculul unor probabilități oarecare având deja structura și parametrii)\n",
        " \n",
        "În laboratorul curent ne vom ocupa *doar* de problema **inferenței** folosind **algoritmul de eliminare a variabilelor**.\n",
        "\n",
        "## Inferențe în Rețele Bayesiene\n",
        "\n",
        "Una dintre problemele esențiale legate de modelele probabilistice este calculul unor întrebări generale de tipul:\n",
        "$$p\\left({\\bf Y}|{\\bf Z}={\\bf z}\\right)$$\n",
        "unde ${\\bf Y}$ reprezintă o mulțime de variabile neobservate a căror distribuție de probabilitate este cerută în prezența observațiilor ${\\bf Z} = {\\bf z}$ (_evidence_).\n",
        "\n",
        "### Calculul probabilităților condiționate\n",
        "\n",
        "Rescriind ecuația de mai sus astfel:\n",
        "\n",
        "$$p\\left({\\bf Y}|{\\bf Z}={\\bf z}\\right) = \\frac{p\\left({\\bf Y}, {\\bf Z}={\\bf z}\\right)}{p\\left({\\bf Z}={\\bf z}\\right)}$$\n",
        "\n",
        "problema inferenței se reduce la estimarea distribuției comune $P\\left({\\bf Y}, {\\bf Z} = {\\bf z}\\right)$ și apoi o valoare oarecare din acestă distribuție va putea fi calculată astfel:\n",
        "\n",
        "$$p\\left({\\bf Y} = {\\bf y} \\vert {\\bf Z} = {\\bf z}\\right) = \\frac{p\\left({\\bf Y} = {\\bf y}, {\\bf Z} = {\\bf z}\\right)}{\\sum_{{\\bf y}'}p\\left({\\bf Y} = {\\bf y}', {\\bf Z} = {\\bf z}\\right)}$$\n",
        "\n",
        "Folosirea acestei expresii permite următoarea relaxare: găsirea unor valori $\\phi\\left({\\bf Y} = {\\bf y}, {\\bf Z} = {\\bf z}\\right) \\propto P\\left({\\bf Y} = {\\bf y}, {\\bf Z} = {\\bf z}\\right)$, ceea ce permite lucrul cu valori nenormalizate.\n",
        "\n",
        "$$p\\left({\\bf Y} = {\\bf y} \\vert {\\bf Z} = {\\bf z}\\right) = \\frac{\\phi\\left({\\bf Y} = {\\bf y}, {\\bf Z} = {\\bf z}\\right)}{\\sum_{{\\bf y}'}\\phi\\left({\\bf Y} = {\\bf y}', {\\bf Z} = {\\bf z}\\right)}$$\n",
        "\n",
        "În cele ce urmează vom descrie un algoritm care lucrează cu astfel de valori, pe care le vom numi factori.\n",
        "\n",
        "**Extra:** Algoritmul se aplică și rețelelor Markov (varianta _neorientată_ a rețelelor Bayesiene, unde se lucrează cu valori nenormalizate peste clici de variabile)"
      ]
    },
    {
      "cell_type": "markdown",
      "metadata": {
        "id": "DMAzVOiH9x1w"
      },
      "source": [
        "## Factori\n",
        "\n",
        "Un factor va fi o tabelă de valori peste o colecție de variabile. De exemplu, pentru valorile `A`, `B` și `C` un factor $\\phi_{ABC}$ ar putea arăta așa:\n",
        "\n",
        "    A | B | C | Value\n",
        "    --+---+---+------\n",
        "    0 | 0 | 0 | 0.1\n",
        "    0 | 0 | 1 | 0.9\n",
        "    0 | 1 | 0 | 0.8\n",
        "    0 | 1 | 1 | 0.2\n",
        "    1 | 0 | 0 | 0.7\n",
        "    1 | 0 | 1 | 0.4\n",
        "    1 | 1 | 0 | 0.5\n",
        "    1 | 1 | 1 | 0.5\n",
        "\n",
        "unde $\\phi_{ABC}\\left(A=1, B=0, C=0\\right) = 0.7$.\n",
        "   \n",
        "### Reprezentarea factorilor\n",
        "\n",
        "Un factor va fi reprezentat printr-un tuplu cu nume `(vars, values)` unde `vars` este o listă cu numele variabilelor din factorul respectiv, iar `values` este un dicționar ale cărui chei sunt tupluri de valori ale variabilelor, iar valorile dicționarului reprezintă o valoare numerică.\n",
        "\n",
        "De exemplu, factorul $\\phi_{ABC}$ va fi reprezentat astfel:\n",
        "\n",
        "```(vars=[\"A\", \"B\", \"C\"],\n",
        "    values={(0, 0, 0): .1, (0, 0, 1): .9, (0, 1, 0): .8, (0, 1, 1): .2,\n",
        "            (1, 0, 0): .7, (1, 0, 1): .4, (1, 1, 0): .5, (1, 1, 1): .5\n",
        "    }\n",
        ")```\n"
      ]
    },
    {
      "cell_type": "code",
      "metadata": {
        "colab": {
          "base_uri": "https://localhost:8080/"
        },
        "id": "67Wlqp639x1w",
        "outputId": "e2b10747-e5b7-4cb8-f1bd-c9f3b1df3b8c"
      },
      "source": [
        "from collections import namedtuple\n",
        "Factor = namedtuple(\"Factor\", [\"vars\", \"values\"])\n",
        "\n",
        "def print_factor(phi, indent=\"\\t\"):\n",
        "    line = \" | \".join(phi.vars + [\"ϕ(\" + \",\".join(phi.vars) + \")\"])\n",
        "    sep = \"\".join([\"+\" if c == \"|\" else \"-\" for c in list(line)])\n",
        "    print(indent + sep)\n",
        "    print(indent + line)\n",
        "    print(indent +sep)\n",
        "    for values, p in phi.values.items():\n",
        "        print(indent + \" | \".join([str(v) for v in values] + [str(p)]))\n",
        "    print(indent + sep)\n",
        "\n",
        "    \n",
        "# Examples\n",
        "\n",
        "phi_ABC = Factor(vars=[\"A\", \"B\", \"C\"],\n",
        "                 values={(0, 0, 0): .1, (0, 0, 1): .9, (0, 1, 0): .8, (0, 1, 1): .2,\n",
        "                         (1, 0, 0): .7, (1, 0, 1): .4, (1, 1, 0): .5, (1, 1, 1): .5})\n",
        "phi_AB = Factor(vars=[\"A\", \"B\"], values={(0, 0): .1, (0, 1): .9, (1, 0): .8, (1, 1): .2})\n",
        "phi_BC = Factor(vars=[\"B\", \"C\"], values={(0, 0): .2, (0, 1): .8, (1, 0): .5, (1, 1): .5})\n",
        "phi_A = Factor(vars=[\"A\"], values={(0,): .4, (1,): .6})\n",
        "phi_C = Factor(vars=[\"C\"], values={(0,): .6, (1,): .8})\n",
        "\n",
        "print_factor(phi_ABC)\n",
        "print(\"ϕ(A=1, B=0, C=0) = \" + str(phi_ABC.values[(1, 0, 0)]))"
      ],
      "execution_count": 476,
      "outputs": [
        {
          "output_type": "stream",
          "text": [
            "\t--+---+---+---------\n",
            "\tA | B | C | ϕ(A,B,C)\n",
            "\t--+---+---+---------\n",
            "\t0 | 0 | 0 | 0.1\n",
            "\t0 | 0 | 1 | 0.9\n",
            "\t0 | 1 | 0 | 0.8\n",
            "\t0 | 1 | 1 | 0.2\n",
            "\t1 | 0 | 0 | 0.7\n",
            "\t1 | 0 | 1 | 0.4\n",
            "\t1 | 1 | 0 | 0.5\n",
            "\t1 | 1 | 1 | 0.5\n",
            "\t--+---+---+---------\n",
            "ϕ(A=1, B=0, C=0) = 0.7\n"
          ],
          "name": "stdout"
        }
      ]
    },
    {
      "cell_type": "markdown",
      "metadata": {
        "id": "eVWWTyEj9x1y"
      },
      "source": [
        "## Multiplicarea a doi factori\n",
        "\n",
        "Doi factori $\\phi_1$ și $\\phi_2$ se pot multiplica, obținându-se un nou factor ale cărui valori sunt produse ale valorilor din $\\phi_1$ și $\\phi_2$. Dacă $\\phi_1$ este un factor peste ${\\bf X} \\cup {\\bf Y}$, iar $\\phi_2$ este un factor peste ${\\bf Y} \\cup {\\bf Z}$ (${\\bf Y}$ reprezintă mulțimea variabilelor comune celor doi factori), atunci:\n",
        "\n",
        "$$\\phi\\left(X_1, \\ldots\\ X_{N_X}, Y_1, \\ldots Y_{N_Y}, Z_1, \\ldots Z_{N_Z}\\right) = \\phi_1\\left(X_1, \\ldots\\ X_{N_X}, Y_1, \\ldots Y_{N_Y}\\right) \\cdot \\phi_2\\left(Y_1, \\ldots Y_{N_Y}, Z_1, \\ldots Z_{N_Z}\\right)$$\n",
        "\n",
        "De exemplu, fie factorii $\\phi_{AB}$ și $\\phi_{BC}$:\n",
        "\n",
        "    --+---+----------          --+---+----------\n",
        "    A | B | ϕ(A,B)             B | C | ϕ(B,C)\n",
        "    --+---+----------          --+---+----------\n",
        "    0 | 0 | 0.100000   <--     0 | 0 | 0.200000\n",
        "    0 | 1 | 0.900000   !!!     0 | 1 | 0.800000   <--\n",
        "    1 | 0 | 0.800000           1 | 0 | 0.500000\n",
        "    1 | 1 | 0.200000           1 | 1 | 0.500000   !!!\n",
        "    --+---+----------          --+---+----------\n",
        "\n",
        "Factorul nou se creează combinând toate perechile de intrări din $\\phi_{AB}$ și $\\phi_{BC}$ pentru care valorile variabilelor comune (în acest caz, $B$) sunt identice.\n",
        "\n",
        "\t--+---+---+---------\n",
        "\tA | B | C | ϕ(A,B,C)\n",
        "\t--+---+---+---------\n",
        "\t0 | 0 | 0 | 0.020000\n",
        "\t0 | 0 | 1 | 0.080000   <--\n",
        "\t0 | 1 | 0 | 0.450000\n",
        "\t0 | 1 | 1 | 0.450000   !!!\n",
        "\t1 | 0 | 0 | 0.160000\n",
        "\t1 | 0 | 1 | 0.640000\n",
        "\t1 | 1 | 0 | 0.100000\n",
        "\t1 | 1 | 1 | 0.100000\n",
        "\t--+---+---+---------\n",
        "\n",
        "\n",
        "**Cerința 1** : Implementați funcția `multiply` care primește doi factori și întoarce rezultatul înmulțirii celor doi."
      ]
    },
    {
      "cell_type": "code",
      "metadata": {
        "id": "zZ4D_sE39x1y"
      },
      "source": [
        "# Multiplicarea a doi factori:\n",
        "\n",
        "def multiply(phi1, phi2):\n",
        "    assert isinstance(phi1, Factor) and isinstance(phi2, Factor)\n",
        "\n",
        "    #valori comune celor 2 tabele\n",
        "\n",
        "    common_values = []\n",
        "  \n",
        "    for val1 in phi1[0]:\n",
        "      for val2 in phi2[0]:\n",
        "        if val1 == val2 and val1 not in common_values:\n",
        "          common_values.append(val1)\n",
        "        \n",
        "    # print(common_values)\n",
        "\n",
        "    #valoarea care nu apare in ambele tabele simultan\n",
        "    \n",
        "    different_values = []\n",
        "\n",
        "    for val in phi1[0]:\n",
        "      if val not in common_values and val not in different_values:\n",
        "        different_values.append(val)\n",
        "\n",
        "    for val in phi2[0]:\n",
        "      if val not in common_values and val not in different_values:\n",
        "        different_values.append(val)\n",
        "    \n",
        "    # print(different_values)\n",
        "\n",
        "    #toate variabilele\n",
        "    final_values = common_values + different_values\n",
        "\n",
        "    # print(final_values)\n",
        "\n",
        "\n",
        "    index_first_table = {}\n",
        "    index = 0\n",
        "\n",
        "    #indecsi prima tabela\n",
        "    for val in phi1[0]:\n",
        "      index_first_table[val] = index\n",
        "      index = index + 1\n",
        "\n",
        "    index_second_table = {}\n",
        "    index = 0\n",
        "\n",
        "    #indecsi a doua tabela\n",
        "    for val in phi2[0]:\n",
        "      index_second_table[val] = index\n",
        "      index = index + 1\n",
        "\n",
        "    dict_results = {}\n",
        "\n",
        "    for a in phi1[1]:\n",
        "      for b in phi2[1]:\n",
        "\n",
        "        # daca nu sunt variabile comune intre cele 2 tabele\n",
        "        if common_values == []:\n",
        "          rez_key = []\n",
        "          for c in different_values:\n",
        "            if c in index_first_table:\n",
        "              rez_key.append(a[index_first_table[c]])\n",
        "            elif c in index_second_table:\n",
        "              rez_key.append(b[index_second_table[c]])\n",
        "          rez = phi1[1][a] * phi2[1][b]\n",
        "          dict_results[tuple(rez_key)] = rez\n",
        "\n",
        "        else:\n",
        "          \n",
        "          all_commons_equal = True\n",
        "          for common_value in common_values:\n",
        "            if a[index_first_table[common_value]] != b[index_second_table[common_value]]:\n",
        "              all_commons_equal = False\n",
        "          if all_commons_equal:\n",
        "            rez = phi1[1][a] * phi2[1][b]              \n",
        "            rez_key = []\n",
        "            for common_value in common_values:\n",
        "              rez_key.append(a[index_first_table[common_value]])\n",
        "            for c in different_values:\n",
        "              if c in index_first_table:\n",
        "                rez_key.append(a[index_first_table[c]])\n",
        "              elif c in index_second_table:\n",
        "                rez_key.append(b[index_second_table[c]])\n",
        "            dict_results[tuple(rez_key)] = rez\n",
        "\n",
        "    result = Factor(vars = final_values, values = dict_results)\n",
        "\n",
        "    return result\n"
      ],
      "execution_count": 477,
      "outputs": []
    },
    {
      "cell_type": "code",
      "metadata": {
        "colab": {
          "base_uri": "https://localhost:8080/"
        },
        "id": "QOOBYXkA9x1z",
        "outputId": "8747e9cb-06fa-4eb2-b0d0-a672c7486f84"
      },
      "source": [
        "print_factor(phi_AB)\n",
        "print(\"*\")\n",
        "print_factor(phi_BC)\n",
        "print(\"=\")\n",
        "print_factor(multiply(phi_AB, phi_BC))"
      ],
      "execution_count": 478,
      "outputs": [
        {
          "output_type": "stream",
          "text": [
            "\t--+---+-------\n",
            "\tA | B | ϕ(A,B)\n",
            "\t--+---+-------\n",
            "\t0 | 0 | 0.1\n",
            "\t0 | 1 | 0.9\n",
            "\t1 | 0 | 0.8\n",
            "\t1 | 1 | 0.2\n",
            "\t--+---+-------\n",
            "*\n",
            "\t--+---+-------\n",
            "\tB | C | ϕ(B,C)\n",
            "\t--+---+-------\n",
            "\t0 | 0 | 0.2\n",
            "\t0 | 1 | 0.8\n",
            "\t1 | 0 | 0.5\n",
            "\t1 | 1 | 0.5\n",
            "\t--+---+-------\n",
            "=\n",
            "\t--+---+---+---------\n",
            "\tB | A | C | ϕ(B,A,C)\n",
            "\t--+---+---+---------\n",
            "\t0 | 0 | 0 | 0.020000000000000004\n",
            "\t0 | 0 | 1 | 0.08000000000000002\n",
            "\t1 | 0 | 0 | 0.45\n",
            "\t1 | 0 | 1 | 0.45\n",
            "\t0 | 1 | 0 | 0.16000000000000003\n",
            "\t0 | 1 | 1 | 0.6400000000000001\n",
            "\t1 | 1 | 0 | 0.1\n",
            "\t1 | 1 | 1 | 0.1\n",
            "\t--+---+---+---------\n"
          ],
          "name": "stdout"
        }
      ]
    },
    {
      "cell_type": "code",
      "metadata": {
        "colab": {
          "base_uri": "https://localhost:8080/"
        },
        "id": "aiLF2EoF9x1z",
        "outputId": "f135294c-f856-4094-e1d4-b14bff5dcc4f"
      },
      "source": [
        "## Tests for multiply\n",
        "\n",
        "from itertools import permutations\n",
        "from operator import mul\n",
        "from functools import reduce\n",
        "import sys\n",
        "from copy import deepcopy\n",
        "\n",
        "def _check_factor(_phi, all_vars, control):\n",
        "    assert sorted(_phi.vars) == sorted(all_vars), \\\n",
        "        \"Wrong variables: \" + ','.join(_phi.vars) + \" instead of \" + ','.join(all_vars)\n",
        "    assert len(_phi.values) == 2 ** len(all_vars), \\\n",
        "        \"Wrong number of entries in phi.values: \" + str(len(_phi.values))\n",
        "    n = len(all_vars)\n",
        "    if n > 0:\n",
        "        for j in range(n + 1):\n",
        "            vals = [0] * (n - j) + [1] * j\n",
        "            keys = set([p for p in permutations(vals)])\n",
        "            p = reduce(mul, [_phi.values[k] for k in keys])\n",
        "            assert abs(p - control[j]) < 1e-9, \\\n",
        "                \"Values for \" + str(keys) + \" are wrong!\"\n",
        "    else:\n",
        "        assert abs(_phi.values[()] - control[0]) < 1e-9\n",
        "\n",
        "\n",
        "def _test_multiply(name1, name2, all_vars, control, verbose=False):\n",
        "    _phi = eval(\"multiply(deepcopy(phi_\"+name1+\"), deepcopy(phi_\"+name2+\"))\")\n",
        "    if verbose:\n",
        "        print(\"Result of ϕ_\"+name+\" * ϕ_\"+name2+\":\")\n",
        "        print_factor(_phi)\n",
        "    sys.stdout.write(\"Testing  ϕ_\"+name1+\" * ϕ_\"+name2+\" ... \")\n",
        "    _check_factor(_phi, all_vars, control)\n",
        "    print(\"OK!!\")\n",
        "\n",
        "_test_multiply(\"AB\", \"BC\", [\"A\", \"B\", \"C\"], [.02, .00576, .0288, .1], verbose=False)\n",
        "_test_multiply(\"A\", \"BC\", [\"A\", \"B\", \"C\"], [.08, .00768, .0288, .3])\n",
        "_test_multiply(\"A\", \"AB\", [\"A\", \"B\"], [.04, .1728, .12])\n",
        "_test_multiply(\"BC\", \"A\", [\"C\", \"A\", \"B\"], [.08, .00768, .0288, .3])\n",
        "_test_multiply(\"ABC\", \"BC\", [\"C\", \"A\", \"B\"], [.02, .04032, .008, .25])\n",
        "_test_multiply(\"C\", \"A\", [\"C\", \"A\"], [.24, .1152, .48])\n",
        "_test_multiply(\"A\", \"C\", [\"C\", \"A\"], [.24, .1152, .48])\n",
        "_test_multiply(\"C\", \"C\", [\"C\"], [.36, .64])\n",
        "\n",
        "print(\"\\nMultiply seems ok!\\n\")"
      ],
      "execution_count": 479,
      "outputs": [
        {
          "output_type": "stream",
          "text": [
            "Testing  ϕ_AB * ϕ_BC ... OK!!\n",
            "Testing  ϕ_A * ϕ_BC ... OK!!\n",
            "Testing  ϕ_A * ϕ_AB ... OK!!\n",
            "Testing  ϕ_BC * ϕ_A ... OK!!\n",
            "Testing  ϕ_ABC * ϕ_BC ... OK!!\n",
            "Testing  ϕ_C * ϕ_A ... OK!!\n",
            "Testing  ϕ_A * ϕ_C ... OK!!\n",
            "Testing  ϕ_C * ϕ_C ... OK!!\n",
            "\n",
            "Multiply seems ok!\n",
            "\n"
          ],
          "name": "stdout"
        }
      ]
    },
    {
      "cell_type": "markdown",
      "metadata": {
        "id": "4OAPBt3h9x10"
      },
      "source": [
        "## Eliminarea unei variabile dintr-un factor prin însumare\n",
        "\n",
        "O variabilă $X_i$ se poate elimina dintr-un factor $\\phi$ prin însumarea tuturor valorilor în care celelalte variabile au aceleași valori. Rezultatul este un nou factor $\\tau$ al cărui context este dat de toate celelate variabile din $\\phi$ în afara lui $X_i$.\n",
        "\n",
        "Notație: $$\\tau \\leftarrow \\sum_{X_i} \\phi$$\n",
        "\n",
        "$$\\tau\\left(X_1, \\ldots X_{i-1}, X_{i+1}, \\ldots, X_N\\right) = \\sum_{x} \\phi \\left(X_1, \\ldots X_{i-1}, X_i= x, X_{i+1}, \\ldots, X_N\\right)$$\n",
        "\n",
        "Prin eliminarea lui $B$ din factorul:\n",
        "```\n",
        "--+---+---+----------\n",
        "A | B | C | ϕ(A,B,C)\n",
        "--+---+---+----------\n",
        "0 | 0 | 0 | 0.100000    !!!\n",
        "0 | 0 | 1 | 0.900000\n",
        "0 | 1 | 0 | 0.800000    !!!\n",
        "0 | 1 | 1 | 0.200000\n",
        "1 | 0 | 0 | 0.700000    <--\n",
        "1 | 0 | 1 | 0.400000\n",
        "1 | 1 | 0 | 0.500000    <--\n",
        "1 | 1 | 1 | 0.500000\n",
        "--+---+---+----------\n",
        "```\n",
        "\n",
        "se obține:\n",
        "\n",
        "```\n",
        "--+---+----------\n",
        "A | C | ϕ(A,C)\n",
        "--+---+----------\n",
        "0 | 0 | 0.900000    !!!\n",
        "0 | 1 | 1.100000\n",
        "1 | 0 | 1.200000    <---\n",
        "1 | 1 | 0.900000\n",
        "--+---+----------\n",
        "```\n",
        "\n",
        "**Cerința 2** : Implementați funcția `sum_out` care primește o variabilă `var` și un factor `phi` și întoarce un factor nou obținut prin eliminarea prin însumare a variabilei `var`."
      ]
    },
    {
      "cell_type": "code",
      "metadata": {
        "id": "34FvTCvv9x10"
      },
      "source": [
        "def sum_out(var, phi):\n",
        "    assert isinstance(phi, Factor) and var in phi.vars\n",
        "\n",
        "    indexes = {}\n",
        "    index = 0\n",
        "\n",
        "    for val in phi[0]:\n",
        "      indexes[val] = index\n",
        "      index = index + 1\n",
        "\n",
        "    var_list = []\n",
        "\n",
        "    for v in phi[0]:\n",
        "      if v != var:\n",
        "        var_list.append(v)\n",
        "\n",
        "    # print(var_list)\n",
        "\n",
        "    values_dict = {}\n",
        "\n",
        "    for a in phi[1]:\n",
        "      for b in phi[1]:\n",
        "        list_aux = []\n",
        "        if a == b:\n",
        "          continue\n",
        "        flag = True\n",
        "        for x in range(len(a)):\n",
        "          if x == indexes[var]:\n",
        "            continue\n",
        "          if a[x] != b[x]:\n",
        "            flag = False\n",
        "          list_aux.append(a[x])\n",
        "        if flag == True:\n",
        "           values_dict[tuple(list_aux)] = phi[1][a] + phi[1][b]\n",
        "\n",
        "    result = Factor(vars = var_list, values = values_dict)\n",
        "    # print(result)\n",
        "    return result"
      ],
      "execution_count": 480,
      "outputs": []
    },
    {
      "cell_type": "code",
      "metadata": {
        "id": "GtxHvNjt9x10",
        "colab": {
          "base_uri": "https://localhost:8080/"
        },
        "outputId": "62a907a1-4266-4e4e-f1bf-6d55e17c2ecd"
      },
      "source": [
        "# Un exemplu\n",
        "\n",
        "print(\"Însumând B afară din\")\n",
        "print_factor(phi_ABC)\n",
        "print(\"=\")\n",
        "print_factor(sum_out(\"B\", phi_ABC))"
      ],
      "execution_count": 481,
      "outputs": [
        {
          "output_type": "stream",
          "text": [
            "Însumând B afară din\n",
            "\t--+---+---+---------\n",
            "\tA | B | C | ϕ(A,B,C)\n",
            "\t--+---+---+---------\n",
            "\t0 | 0 | 0 | 0.1\n",
            "\t0 | 0 | 1 | 0.9\n",
            "\t0 | 1 | 0 | 0.8\n",
            "\t0 | 1 | 1 | 0.2\n",
            "\t1 | 0 | 0 | 0.7\n",
            "\t1 | 0 | 1 | 0.4\n",
            "\t1 | 1 | 0 | 0.5\n",
            "\t1 | 1 | 1 | 0.5\n",
            "\t--+---+---+---------\n",
            "=\n",
            "\t--+---+-------\n",
            "\tA | C | ϕ(A,C)\n",
            "\t--+---+-------\n",
            "\t0 | 0 | 0.9\n",
            "\t0 | 1 | 1.1\n",
            "\t1 | 0 | 1.2\n",
            "\t1 | 1 | 0.9\n",
            "\t--+---+-------\n"
          ],
          "name": "stdout"
        }
      ]
    },
    {
      "cell_type": "code",
      "metadata": {
        "id": "hr392eiR9x11",
        "colab": {
          "base_uri": "https://localhost:8080/"
        },
        "outputId": "aabb1393-4842-4a03-c3e3-9882ad6df578"
      },
      "source": [
        "## Tests for sum_out\n",
        "\n",
        "def _test_sum_out(var, name, left_vars, control, verbose=False):\n",
        "    import sys\n",
        "    from itertools import permutations\n",
        "    from operator import mul\n",
        "    from functools import reduce\n",
        "    _phi = eval(\"sum_out('\"+var+\"', phi_\"+name+\")\")\n",
        "    if verbose:\n",
        "        print_factor(_phi)\n",
        "    sys.stdout.write(\"Testing  sum_\"+var+\" ϕ_\"+name+\" ... \")\n",
        "    _check_factor(_phi, left_vars, control)\n",
        "    print(\"OK!!\")\n",
        "\n",
        "_test_sum_out(\"A\", \"ABC\", [\"C\", \"B\"], [.8, 1.69, .7], verbose=False)\n",
        "_test_sum_out(\"B\", \"ABC\", [\"A\", \"C\"], [.9, 1.32, .9], verbose=False)\n",
        "_test_sum_out(\"C\", \"C\", [], [1.4], verbose=False)\n",
        "_test_sum_out(\"A\", \"A\", [], [1.], verbose=False)\n",
        "_test_sum_out(\"B\", \"BC\", [\"C\"], [.7, 1.3], verbose=False)\n",
        "\n",
        "print(\"\\nSummations seems ok!\\n\")"
      ],
      "execution_count": 482,
      "outputs": [
        {
          "output_type": "stream",
          "text": [
            "Testing  sum_A ϕ_ABC ... OK!!\n",
            "Testing  sum_B ϕ_ABC ... OK!!\n",
            "Testing  sum_C ϕ_C ... OK!!\n",
            "Testing  sum_A ϕ_A ... OK!!\n",
            "Testing  sum_B ϕ_BC ... OK!!\n",
            "\n",
            "Summations seems ok!\n",
            "\n"
          ],
          "name": "stdout"
        }
      ]
    },
    {
      "cell_type": "markdown",
      "metadata": {
        "id": "ohjGpAQL9x11"
      },
      "source": [
        "## Eliminarea unei variabile dintr-o mulțime de factori\n",
        "\n",
        "Dându-se o mulțime de factori $\\Phi$, eliminați variabila $X$. Operația se face prin înlocuirea tuturor factorilor care conțin variabila $X$ cu unul obținut prin (1) factorizare și apoi (2) însumare.\n",
        "\n",
        "`prod_sum(`$\\Phi$ `, ` $X$ `)`\n",
        " - $\\Phi_{X} \\leftarrow \\left\\lbrace \\phi \\in \\Phi \\,:\\, X \\in \\phi \\right\\rbrace$\n",
        " - $\\omega \\leftarrow \\prod_{\\phi \\in \\Phi_{X}} \\phi$\n",
        " - $\\tau \\leftarrow \\sum_{X} \\omega$\n",
        " - `return` $\\Phi \\setminus \\Phi_{X} \\cup \\left\\lbrace \\tau \\right\\rbrace$\n",
        "\n",
        "**Cerința 3** : Implementați funcția `prod_sum` care primește o variabilă `var` și o listă de factori și întoarce noua listă de factori obținută prin eliminarea variabilei `var`. Dacă `verbose` este `True`, atunci afișați factorul nou construit (e util mai târziu pentru a urmări pașii algoritmului)."
      ]
    },
    {
      "cell_type": "code",
      "metadata": {
        "id": "vP5Yq1N99x11"
      },
      "source": [
        "def prod_sum(var, Phi, verbose=False):\n",
        "    assert isinstance(var, str) and all(\n",
        "        [isinstance(phi, Factor) for phi in Phi])\n",
        "    phi_x = []\n",
        "\n",
        "    #prima bulina\n",
        "    for p in Phi:\n",
        "      if var in p[0]:\n",
        "        phi_x.append(p)\n",
        "    \n",
        "\n",
        "    #a doua bulina\n",
        "    omega = phi_x[0]\n",
        "\n",
        "    for f in range(1, len(phi_x)):\n",
        "      omega = multiply(omega, phi_x[f])\n",
        "\n",
        "    #a treia bulina\n",
        "    tau = sum_out(var, omega)\n",
        "\n",
        "    #a patra bulina\n",
        "    result = []\n",
        "\n",
        "    for p in Phi:\n",
        "      if p not in phi_x:\n",
        "        result.append(p)\n",
        "\n",
        "    #adaugam si tau in lista\n",
        "    result.append(tau)\n",
        "\n",
        "    if verbose==True:\n",
        "      print(result)\n",
        "\n",
        "    return result"
      ],
      "execution_count": 483,
      "outputs": []
    },
    {
      "cell_type": "code",
      "metadata": {
        "id": "9CtZbfsD9x12",
        "colab": {
          "base_uri": "https://localhost:8080/"
        },
        "outputId": "22051798-0b06-43d8-e2de-e4e923e1947a"
      },
      "source": [
        "# Un exemplu\n",
        "print(\"Elininând B din :\")\n",
        "print_factor(phi_AB)\n",
        "print(\"și\")\n",
        "print_factor(phi_BC)\n",
        "print(\"=>\")\n",
        "print_factor(prod_sum(\"B\", [phi_AB, phi_BC])[0])"
      ],
      "execution_count": 484,
      "outputs": [
        {
          "output_type": "stream",
          "text": [
            "Elininând B din :\n",
            "\t--+---+-------\n",
            "\tA | B | ϕ(A,B)\n",
            "\t--+---+-------\n",
            "\t0 | 0 | 0.1\n",
            "\t0 | 1 | 0.9\n",
            "\t1 | 0 | 0.8\n",
            "\t1 | 1 | 0.2\n",
            "\t--+---+-------\n",
            "și\n",
            "\t--+---+-------\n",
            "\tB | C | ϕ(B,C)\n",
            "\t--+---+-------\n",
            "\t0 | 0 | 0.2\n",
            "\t0 | 1 | 0.8\n",
            "\t1 | 0 | 0.5\n",
            "\t1 | 1 | 0.5\n",
            "\t--+---+-------\n",
            "=>\n",
            "\t--+---+-------\n",
            "\tA | C | ϕ(A,C)\n",
            "\t--+---+-------\n",
            "\t0 | 0 | 0.47000000000000003\n",
            "\t0 | 1 | 0.53\n",
            "\t1 | 0 | 0.26\n",
            "\t1 | 1 | 0.7400000000000001\n",
            "\t--+---+-------\n"
          ],
          "name": "stdout"
        }
      ]
    },
    {
      "cell_type": "code",
      "metadata": {
        "id": "sUn5rguh9x12",
        "colab": {
          "base_uri": "https://localhost:8080/"
        },
        "outputId": "691dc9ce-c618-4efc-df62-aca69f0da947"
      },
      "source": [
        "## Test prod_sum\n",
        "\n",
        "sys.stdout.write(\"Testing prod-sum (I) ... \")\n",
        "result = prod_sum(\"B\", [deepcopy(_phi) for _phi in [phi_A, phi_C, phi_ABC, phi_BC]])\n",
        "assert len(result) == 3\n",
        "for _phi in result:\n",
        "    if sorted(_phi.vars) == [\"A\", \"C\"]:\n",
        "        assert abs(_phi.values[(0, 0)] - 0.42) < 1e-9\n",
        "        assert abs(_phi.values[(0, 1)] * _phi.values[(1, 0)] - 0.3198) < 1e-9\n",
        "        assert abs(_phi.values[(1, 1)] - 0.57) < 1e-9\n",
        "    elif sorted(_phi.vars) == [\"A\"]:\n",
        "        assert abs(_phi.values[(0,)] - 0.4) < 1e-9\n",
        "        assert abs(_phi.values[(1,)] - 0.6) < 1e-9\n",
        "    elif sorted(_phi.vars) == [\"C\"]:\n",
        "        assert abs(_phi.values[(0,)] - 0.6) < 1e-9\n",
        "        assert abs(_phi.values[(1,)] - 0.8) < 1e-9\n",
        "print(\"OK!\")\n",
        "\n",
        "sys.stdout.write(\"Testing prod-sum (II) ... \")\n",
        "result = prod_sum(\"A\", [deepcopy(_phi) for _phi in [phi_A, phi_C, phi_ABC, phi_BC]])\n",
        "assert len(result) == 3\n",
        "for _phi in result:\n",
        "    if sorted(_phi.vars) == [\"B\", \"C\"]:\n",
        "        assert abs(_phi.values[(0, 0)] - 0.2) < 1e-9 or abs(_phi.values[(0, 0)] - 0.46) < 1e-9\n",
        "        assert abs(_phi.values[(0, 1)] * _phi.values[(1, 0)] - 0.4) < 1e-9 or \\\n",
        "               abs(_phi.values[(0, 1)] * _phi.values[(1, 0)] - 0.372) < 1e-9\n",
        "        assert abs(_phi.values[(1, 1)] - 0.5) < 1e-9 or abs(_phi.values[(1, 1)] - 0.38) < 1e-9\n",
        "    elif sorted(_phi.vars) == [\"C\"]:\n",
        "        assert abs(_phi.values[(0,)] - 0.6) < 1e-9\n",
        "        assert abs(_phi.values[(1,)] - 0.8) < 1e-9\n",
        "print(\"OK!\")\n",
        "print(\"Prod-Sum seems ok!\")"
      ],
      "execution_count": 485,
      "outputs": [
        {
          "output_type": "stream",
          "text": [
            "Testing prod-sum (I) ... OK!\n",
            "Testing prod-sum (II) ... OK!\n",
            "Prod-Sum seems ok!\n"
          ],
          "name": "stdout"
        }
      ]
    },
    {
      "cell_type": "markdown",
      "metadata": {
        "id": "sY23Ett-9x12"
      },
      "source": [
        "## Eliminarea variabilelor\n",
        "\n",
        "Dându-se o mulțime de factori $\\Phi$ și o mulțime de variabile de eliminat $\\bf{Z}$, să se construiască factorul obținut după eliminarea tuturor variabilelor $Z_i$.\n",
        "\n",
        "`variable_elimination(` $\\Phi$ `,` ${\\bf Z}$ `)`\n",
        " - `for` $Z_i \\in {\\bf Z}$:\n",
        "   - $\\Phi \\leftarrow $ `prod_sum(` $Z_i$ `,` $\\Phi$ `)`\n",
        " - `return` $\\prod_{\\phi \\in \\Phi} \\phi$\n",
        " \n",
        "Ordinea în care se iau variabilele din ${\\bf Z}$ poate infleunța eficiența algoritmului. (Vezi BONUS.)\n",
        "\n",
        "** Cerința 4 ** : Implementați funcția `variable_elimination`. Aceasta trebuie să întoarcă un singur factor. Folosiți argumentul `verbose` și în apelurile funcției `prod_sum`."
      ]
    },
    {
      "cell_type": "code",
      "metadata": {
        "id": "g8JBD3q19x13"
      },
      "source": [
        "def variable_elimination(Phi, Z, verbose=False):\n",
        "\n",
        "    phi = deepcopy(Phi)\n",
        "\n",
        "    for z_i in Z:\n",
        "      phi = prod_sum(z_i, phi, verbose)\n",
        "\n",
        "    result = phi[0]\n",
        "\n",
        "    for p in range(1,len(phi)):\n",
        "      result = multiply(result, phi[p])\n",
        "\n",
        "    return result"
      ],
      "execution_count": 486,
      "outputs": []
    },
    {
      "cell_type": "code",
      "metadata": {
        "id": "iDGA9qQh9x13",
        "colab": {
          "base_uri": "https://localhost:8080/"
        },
        "outputId": "df715422-61fb-4347-f895-527d7da59906"
      },
      "source": [
        "## Testing Variable elimination\n",
        "\n",
        "def _test_variable_elimination(Phi, Vars, left_vars, control, verbose=False):\n",
        "\n",
        "    \n",
        "    var_list = '[\"' + '\", \"'.join(Vars) + '\"]'\n",
        "    factor_list = '[' + ','.join([(\"deepcopy(phi_\"+name + \")\") for name in Phi]) +']'\n",
        "    name_list = '[' + ','.join([(\"ϕ_\"+name) for name in Phi]) +']'\n",
        "    _phi = eval(\"variable_elimination(\"+factor_list+\", \"+var_list+\")\")\n",
        "    if verbose:\n",
        "        print_factor(_phi)\n",
        "    sys.stdout.write(\"Testing  eliminate_var \"+var_list+\" from \"+name_list+\" ... \")\n",
        "    _check_factor(_phi, left_vars, control)\n",
        "    print(\"OK!!\")\n",
        "\n",
        "_test_variable_elimination([\"A\", \"C\"], [\"C\"], [\"A\"], [0.56, 0.84])\n",
        "_test_variable_elimination([\"ABC\", \"BC\", \"AB\", \"A\"], [\"C\", \"B\"], [\"A\"], [0.2096, 0.2808])\n",
        "_test_variable_elimination([\"ABC\", \"BC\", \"AB\", \"A\"], [\"C\", \"B\", \"A\"], [], [0.4904])\n",
        "_test_variable_elimination([\"ABC\", \"AB\", \"BC\", \"A\"], [\"A\", \"B\", \"C\"], [], [0.4904])\n",
        "_test_variable_elimination([\"ABC\"], [\"A\", \"B\", \"C\"], [], [4.1])\n"
      ],
      "execution_count": 487,
      "outputs": [
        {
          "output_type": "stream",
          "text": [
            "Testing  eliminate_var [\"C\"] from [ϕ_A,ϕ_C] ... OK!!\n",
            "Testing  eliminate_var [\"C\", \"B\"] from [ϕ_ABC,ϕ_BC,ϕ_AB,ϕ_A] ... OK!!\n",
            "Testing  eliminate_var [\"C\", \"B\", \"A\"] from [ϕ_ABC,ϕ_BC,ϕ_AB,ϕ_A] ... OK!!\n",
            "Testing  eliminate_var [\"A\", \"B\", \"C\"] from [ϕ_ABC,ϕ_AB,ϕ_BC,ϕ_A] ... OK!!\n",
            "Testing  eliminate_var [\"A\", \"B\", \"C\"] from [ϕ_ABC] ... OK!!\n"
          ],
          "name": "stdout"
        }
      ]
    },
    {
      "cell_type": "markdown",
      "metadata": {
        "id": "LhqrDm6L9x13"
      },
      "source": [
        "## Reducerea factorilor conform observațiilor\n",
        "\n",
        "**Cerința 5** : Reduceți factorii eliminanând intrările ce nu corespund observațiilor făcute. Implementați funcția `coniditon_factors` care primește o listă de factori `Phi`, un dicțonar de observații și întoarce o listă nouă în care factorii ce conțin variabile din `Z` sunt reduși la liniile conforme cu observațiile făcute."
      ]
    },
    {
      "cell_type": "code",
      "metadata": {
        "id": "_iVs0S-a9x14"
      },
      "source": [
        "def condition_factors(Phi, Z, verbose=False):\n",
        "\n",
        "    phi = deepcopy(Phi)\n",
        "\n",
        "    for z_i in Z:\n",
        "      for p in phi:\n",
        "        if z_i in p[0]:\n",
        "          useless_lines = []\n",
        "          idx = p[0].index(z_i)\n",
        "          for a in p[1]:\n",
        "            if a[idx] != Z[z_i]:\n",
        "              useless_lines.append(a)\n",
        "          for useless_line in useless_lines:\n",
        "            del p[1][useless_line]\n",
        "\n",
        "\n",
        "    if verbose == True:\n",
        "      print(phi)\n",
        "    return phi"
      ],
      "execution_count": 488,
      "outputs": []
    },
    {
      "cell_type": "code",
      "metadata": {
        "id": "i0Ir9sgB9x14",
        "colab": {
          "base_uri": "https://localhost:8080/"
        },
        "outputId": "084a11cc-fac1-453b-94b1-a0ca9ddf1dae"
      },
      "source": [
        "# Un exemplu\n",
        "print(\"Aplicand B=0 in factorul\")\n",
        "print_factor(phi_ABC)\n",
        "print(\"=>\")\n",
        "print_factor(condition_factors([phi_ABC], {\"B\": 0})[0])"
      ],
      "execution_count": 489,
      "outputs": [
        {
          "output_type": "stream",
          "text": [
            "Aplicand B=0 in factorul\n",
            "\t--+---+---+---------\n",
            "\tA | B | C | ϕ(A,B,C)\n",
            "\t--+---+---+---------\n",
            "\t0 | 0 | 0 | 0.1\n",
            "\t0 | 0 | 1 | 0.9\n",
            "\t0 | 1 | 0 | 0.8\n",
            "\t0 | 1 | 1 | 0.2\n",
            "\t1 | 0 | 0 | 0.7\n",
            "\t1 | 0 | 1 | 0.4\n",
            "\t1 | 1 | 0 | 0.5\n",
            "\t1 | 1 | 1 | 0.5\n",
            "\t--+---+---+---------\n",
            "=>\n",
            "\t--+---+---+---------\n",
            "\tA | B | C | ϕ(A,B,C)\n",
            "\t--+---+---+---------\n",
            "\t0 | 0 | 0 | 0.1\n",
            "\t0 | 0 | 1 | 0.9\n",
            "\t1 | 0 | 0 | 0.7\n",
            "\t1 | 0 | 1 | 0.4\n",
            "\t--+---+---+---------\n"
          ],
          "name": "stdout"
        }
      ]
    },
    {
      "cell_type": "code",
      "metadata": {
        "id": "MbRZwrGd9x14",
        "colab": {
          "base_uri": "https://localhost:8080/"
        },
        "outputId": "29545c00-005a-4ac6-bbce-f97683fd9197"
      },
      "source": [
        "# Teste pentru condition_factors\n",
        "\n",
        "phi_ABC = Factor(vars=[\"A\", \"B\", \"C\"],\n",
        "                 values={(0, 0, 0): .1, (0, 0, 1): .9, (0, 1, 0): .8, (0, 1, 1): .2,\n",
        "                         (1, 0, 0): .7, (1, 0, 1): .4, (1, 1, 0): .5, (1, 1, 1): .5})\n",
        "\n",
        "_phi = condition_factors([phi_ABC], {\"B\": 0})[0]\n",
        "assert sorted(_phi.vars) == [\"A\", \"B\", \"C\"]\n",
        "assert len(_phi.values) == 4 and abs(_phi.values[(0, 0, 0)] - .1) < 1e-7\n",
        "_phi = condition_factors([phi_ABC], {\"B\": 0, \"A\": 1})[0]\n",
        "assert sorted(_phi.vars) == [\"A\", \"B\", \"C\"] and len(_phi.values) == 2\n",
        "print(\"Condition factors seems ok!\")"
      ],
      "execution_count": 490,
      "outputs": [
        {
          "output_type": "stream",
          "text": [
            "Condition factors seems ok!\n"
          ],
          "name": "stdout"
        }
      ]
    },
    {
      "cell_type": "markdown",
      "metadata": {
        "id": "i8Tvp3wF9x15"
      },
      "source": [
        "## Realizarea inferențelor în Rețele Bayesiene\n",
        "\n",
        "$$P\\left({\\bf Y} \\vert {\\bf Z} = {\\bf z}\\right) = \\frac{P\\left({\\bf Y}, {\\bf Z} = {\\bf z}\\right)}{P\\left(\\bf{Z = z}\\right)}$$\n",
        "\n",
        "Realizarea inferențelor de tipul generic de mai sus se face în următorii pași:\n",
        "\n",
        " - tabelele cu distribuțiile condiționate sunt transformate în factori\n",
        " - factorii ce conțin variabile din ${\\bf Z}$ sunt reduși la liniile care respectă ${\\bf Z} = {\\bf z}$\n",
        " - fie $\\Phi$ mulțimea factorilor astfel obținuți\n",
        " - fie $\\phi_{YZ}$ factorul obținut prin eliminarea tuturor celorlalte variabile:\n",
        "\n",
        "     * $\\phi_{YZ} \\leftarrow $ `var_elimination` $\\left(\\Phi, {\\bf X} \\setminus \\left({\\bf Y} \\cup {\\bf Z}\\right)\\right)$\n",
        " - atunci $$P({\\bf Y} = {\\bf y}| {\\bf Z}= {\\bf z}) = \\frac{\\phi_{YZ}({\\bf Y}={\\bf y})}{\\sum_{{\\bf Y}} \\phi_{YZ}}$$\n"
      ]
    },
    {
      "cell_type": "code",
      "metadata": {
        "id": "98kkgRnp9x15"
      },
      "source": [
        "from random import shuffle\n",
        "\n",
        "def query(X, Y, Z, Phi, Other=None, verbose=False):\n",
        "    \"\"\"\n",
        "    X - full list of variables\n",
        "    Y - query variables\n",
        "    Z - dictionary with observations\n",
        "    Phi - the list with all factor\n",
        "    Ohter - an order over variables in X \\ (Y U Z); None to pick a random one\n",
        "    verbose - display factors as they are created\n",
        "    \"\"\"\n",
        "\n",
        "    if verbose:\n",
        "        print(\"\\n-------------\\nInitial factors:\")\n",
        "        for phi in Phi:\n",
        "            print_factor(phi)\n",
        "\n",
        "    Phi = condition_factors(Phi, Z, verbose=verbose)  # Condition factors on Z=z\n",
        "\n",
        "    if Other is None:\n",
        "        Other = [x for x in X if (x not in Y and x not in Z)]  # Variables that need to be eliminated\n",
        "        shuffle(Other)\n",
        "    else:\n",
        "        assert sorted(Other) == sorted([x for x in X if (x not in Y and x not in Z)])\n",
        "    if verbose:\n",
        "        print(\"\\n-------------\\nEliminating variables in the following order: \" + \",\".join(Other))\n",
        "\n",
        "    phi = variable_elimination(Phi, Other, verbose=verbose)  # Eliminate other variables then Y and Z\n",
        "    \n",
        "    # Normalize factor to represent the conditional probability p(Y|Z=z)\n",
        "    s = sum(phi.values.values())\n",
        "    prob = Factor(vars=phi.vars, values={k: v / s for (k, v) in phi.values.items()})\n",
        "    print(\"\\n-----------------\\nProbabilitatea ceruta:\")\n",
        "    print_factor(prob)\n"
      ],
      "execution_count": 491,
      "outputs": []
    },
    {
      "cell_type": "markdown",
      "metadata": {
        "collapsed": true,
        "id": "l5ktTcsp9x15"
      },
      "source": [
        "## Exemplu\n",
        "\n",
        "Urmăriți exemplul din PDF-ul atașat."
      ]
    },
    {
      "cell_type": "code",
      "metadata": {
        "id": "nghp-mMx9x16"
      },
      "source": [
        "phi_a = Factor(vars=[\"A\"], values={(0,): .7, (1,): .3})\n",
        "phi_b = Factor(vars=[\"B\"], values={(0,): .5, (1,): .5})\n",
        "phi_c = Factor(vars=[\"C\"], values={(0,): .4, (1,): .6})\n",
        "\n",
        "phi_d = Factor(vars=[\"A\", \"B\", \"D\"],\n",
        "               values={(0, 0, 0): .75, (0, 0, 1): .25, (0, 1, 0): .7, (0, 1, 1): .3,\n",
        "                       (1, 0, 0): .6, (1, 0, 1): .4, (1, 1, 0): .2, (1, 1, 1): .8\n",
        "                      })\n",
        "phi_e = Factor(vars=[\"C\", \"E\"],\n",
        "               values={(0, 0): .25, (0, 1): .75, (1, 0): .75, (1, 1): .25})\n",
        "\n",
        "phi_f = Factor(vars=[\"A\", \"D\", \"F\"],\n",
        "               values={(0, 0, 0): .6, (0, 0, 1): .4, (0, 1, 0): .4, (0, 1, 1): .6,\n",
        "                       (1, 0, 0): .7, (1, 0, 1): .3, (1, 1, 0): .8, (1, 1, 1): .2\n",
        "                      })\n",
        "phi_g = Factor(vars=[\"D\", \"E\", \"G\"],\n",
        "               values={(0, 0, 0): .1, (0, 0, 1): .9, (0, 1, 0): .2, (0, 1, 1): .8,\n",
        "                       (1, 0, 0): .5, (1, 0, 1): .5, (1, 1, 0): .4, (1, 1, 1): .6\n",
        "                      })\n",
        "\n",
        "all_vars = [\"A\", \"B\", \"C\", \"D\", \"E\", \"F\", \"G\"]\n",
        "Phi = [phi_a, phi_b, phi_c, phi_d, phi_e, phi_f, phi_g]"
      ],
      "execution_count": 492,
      "outputs": []
    },
    {
      "cell_type": "code",
      "metadata": {
        "id": "Ql-5izK49x16",
        "colab": {
          "base_uri": "https://localhost:8080/"
        },
        "outputId": "6a4df6d4-4d59-422d-8e6b-1e3e873a2eb1"
      },
      "source": [
        "# Algoritmul ar trebui să ajungă la probabilitățile din tabele\n",
        "\n",
        "# Verificati ca algoritmul \"ajunge\" corect la valorile din tabele\n",
        "query(all_vars, [\"F\"], {\"A\": 0, \"D\": 1}, Phi)\n",
        "query(all_vars, [\"G\"], {\"D\": 0, \"E\": 1}, Phi)"
      ],
      "execution_count": 493,
      "outputs": [
        {
          "output_type": "stream",
          "text": [
            "\n",
            "-----------------\n",
            "Probabilitatea ceruta:\n",
            "\t--+---+---+---------\n",
            "\tD | A | F | ϕ(D,A,F)\n",
            "\t--+---+---+---------\n",
            "\t1 | 0 | 0 | 0.39999999999999997\n",
            "\t1 | 0 | 1 | 0.6\n",
            "\t--+---+---+---------\n",
            "\n",
            "-----------------\n",
            "Probabilitatea ceruta:\n",
            "\t--+---+---+---------\n",
            "\tD | E | G | ϕ(D,E,G)\n",
            "\t--+---+---+---------\n",
            "\t0 | 1 | 0 | 0.2\n",
            "\t0 | 1 | 1 | 0.8\n",
            "\t--+---+---+---------\n"
          ],
          "name": "stdout"
        }
      ]
    },
    {
      "cell_type": "code",
      "metadata": {
        "id": "kIBMi3vo9x16",
        "colab": {
          "base_uri": "https://localhost:8080/"
        },
        "outputId": "1c4dcab6-4bb6-4b2f-c920-46e145bb8498"
      },
      "source": [
        "# Exemplul din PDF-ul atașat\n",
        "\n",
        "query(all_vars, [\"C\", \"F\"], {\"G\": 0}, Phi, Other=[\"E\", \"B\", \"A\", \"D\"], verbose=True)\n"
      ],
      "execution_count": 494,
      "outputs": [
        {
          "output_type": "stream",
          "text": [
            "\n",
            "-------------\n",
            "Initial factors:\n",
            "\t--+-----\n",
            "\tA | ϕ(A)\n",
            "\t--+-----\n",
            "\t0 | 0.7\n",
            "\t1 | 0.3\n",
            "\t--+-----\n",
            "\t--+-----\n",
            "\tB | ϕ(B)\n",
            "\t--+-----\n",
            "\t0 | 0.5\n",
            "\t1 | 0.5\n",
            "\t--+-----\n",
            "\t--+-----\n",
            "\tC | ϕ(C)\n",
            "\t--+-----\n",
            "\t0 | 0.4\n",
            "\t1 | 0.6\n",
            "\t--+-----\n",
            "\t--+---+---+---------\n",
            "\tA | B | D | ϕ(A,B,D)\n",
            "\t--+---+---+---------\n",
            "\t0 | 0 | 0 | 0.75\n",
            "\t0 | 0 | 1 | 0.25\n",
            "\t0 | 1 | 0 | 0.7\n",
            "\t0 | 1 | 1 | 0.3\n",
            "\t1 | 0 | 0 | 0.6\n",
            "\t1 | 0 | 1 | 0.4\n",
            "\t1 | 1 | 0 | 0.2\n",
            "\t1 | 1 | 1 | 0.8\n",
            "\t--+---+---+---------\n",
            "\t--+---+-------\n",
            "\tC | E | ϕ(C,E)\n",
            "\t--+---+-------\n",
            "\t0 | 0 | 0.25\n",
            "\t0 | 1 | 0.75\n",
            "\t1 | 0 | 0.75\n",
            "\t1 | 1 | 0.25\n",
            "\t--+---+-------\n",
            "\t--+---+---+---------\n",
            "\tA | D | F | ϕ(A,D,F)\n",
            "\t--+---+---+---------\n",
            "\t0 | 0 | 0 | 0.6\n",
            "\t0 | 0 | 1 | 0.4\n",
            "\t0 | 1 | 0 | 0.4\n",
            "\t0 | 1 | 1 | 0.6\n",
            "\t1 | 0 | 0 | 0.7\n",
            "\t1 | 0 | 1 | 0.3\n",
            "\t1 | 1 | 0 | 0.8\n",
            "\t1 | 1 | 1 | 0.2\n",
            "\t--+---+---+---------\n",
            "\t--+---+---+---------\n",
            "\tD | E | G | ϕ(D,E,G)\n",
            "\t--+---+---+---------\n",
            "\t0 | 0 | 0 | 0.1\n",
            "\t0 | 0 | 1 | 0.9\n",
            "\t0 | 1 | 0 | 0.2\n",
            "\t0 | 1 | 1 | 0.8\n",
            "\t1 | 0 | 0 | 0.5\n",
            "\t1 | 0 | 1 | 0.5\n",
            "\t1 | 1 | 0 | 0.4\n",
            "\t1 | 1 | 1 | 0.6\n",
            "\t--+---+---+---------\n",
            "[Factor(vars=['A'], values={(0,): 0.7, (1,): 0.3}), Factor(vars=['B'], values={(0,): 0.5, (1,): 0.5}), Factor(vars=['C'], values={(0,): 0.4, (1,): 0.6}), Factor(vars=['A', 'B', 'D'], values={(0, 0, 0): 0.75, (0, 0, 1): 0.25, (0, 1, 0): 0.7, (0, 1, 1): 0.3, (1, 0, 0): 0.6, (1, 0, 1): 0.4, (1, 1, 0): 0.2, (1, 1, 1): 0.8}), Factor(vars=['C', 'E'], values={(0, 0): 0.25, (0, 1): 0.75, (1, 0): 0.75, (1, 1): 0.25}), Factor(vars=['A', 'D', 'F'], values={(0, 0, 0): 0.6, (0, 0, 1): 0.4, (0, 1, 0): 0.4, (0, 1, 1): 0.6, (1, 0, 0): 0.7, (1, 0, 1): 0.3, (1, 1, 0): 0.8, (1, 1, 1): 0.2}), Factor(vars=['D', 'E', 'G'], values={(0, 0, 0): 0.1, (0, 1, 0): 0.2, (1, 0, 0): 0.5, (1, 1, 0): 0.4})]\n",
            "\n",
            "-------------\n",
            "Eliminating variables in the following order: E,B,A,D\n",
            "[Factor(vars=['A'], values={(0,): 0.7, (1,): 0.3}), Factor(vars=['B'], values={(0,): 0.5, (1,): 0.5}), Factor(vars=['C'], values={(0,): 0.4, (1,): 0.6}), Factor(vars=['A', 'B', 'D'], values={(0, 0, 0): 0.75, (0, 0, 1): 0.25, (0, 1, 0): 0.7, (0, 1, 1): 0.3, (1, 0, 0): 0.6, (1, 0, 1): 0.4, (1, 1, 0): 0.2, (1, 1, 1): 0.8}), Factor(vars=['A', 'D', 'F'], values={(0, 0, 0): 0.6, (0, 0, 1): 0.4, (0, 1, 0): 0.4, (0, 1, 1): 0.6, (1, 0, 0): 0.7, (1, 0, 1): 0.3, (1, 1, 0): 0.8, (1, 1, 1): 0.2}), Factor(vars=['C', 'D', 'G'], values={(0, 0, 0): 0.17500000000000002, (0, 1, 0): 0.42500000000000004, (1, 0, 0): 0.125, (1, 1, 0): 0.475})]\n",
            "[Factor(vars=['A'], values={(0,): 0.7, (1,): 0.3}), Factor(vars=['C'], values={(0,): 0.4, (1,): 0.6}), Factor(vars=['A', 'D', 'F'], values={(0, 0, 0): 0.6, (0, 0, 1): 0.4, (0, 1, 0): 0.4, (0, 1, 1): 0.6, (1, 0, 0): 0.7, (1, 0, 1): 0.3, (1, 1, 0): 0.8, (1, 1, 1): 0.2}), Factor(vars=['C', 'D', 'G'], values={(0, 0, 0): 0.17500000000000002, (0, 1, 0): 0.42500000000000004, (1, 0, 0): 0.125, (1, 1, 0): 0.475}), Factor(vars=['A', 'D'], values={(0, 0): 0.725, (0, 1): 0.275, (1, 0): 0.4, (1, 1): 0.6000000000000001})]\n",
            "[Factor(vars=['C'], values={(0,): 0.4, (1,): 0.6}), Factor(vars=['C', 'D', 'G'], values={(0, 0, 0): 0.17500000000000002, (0, 1, 0): 0.42500000000000004, (1, 0, 0): 0.125, (1, 1, 0): 0.475}), Factor(vars=['D', 'F'], values={(0, 0): 0.3885, (0, 1): 0.239, (1, 0): 0.22100000000000003, (1, 1): 0.15150000000000002})]\n",
            "[Factor(vars=['C'], values={(0,): 0.4, (1,): 0.6}), Factor(vars=['C', 'G', 'F'], values={(0, 0, 0): 0.16191250000000001, (0, 0, 1): 0.10621250000000002, (1, 0, 0): 0.15353750000000002, (1, 0, 1): 0.10183750000000001})]\n",
            "\n",
            "-----------------\n",
            "Probabilitatea ceruta:\n",
            "\t--+---+---+---------\n",
            "\tC | G | F | ϕ(C,G,F)\n",
            "\t--+---+---+---------\n",
            "\t0 | 0 | 0 | 0.2486419042134562\n",
            "\t0 | 0 | 1 | 0.16310586428639987\n",
            "\t1 | 0 | 0 | 0.35367117765620504\n",
            "\t1 | 0 | 1 | 0.23458105384393896\n",
            "\t--+---+---+---------\n"
          ],
          "name": "stdout"
        }
      ]
    }
  ]
}