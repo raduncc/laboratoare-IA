{
  "nbformat": 4,
  "nbformat_minor": 0,
  "metadata": {
    "kernelspec": {
      "display_name": "Python 3",
      "language": "python",
      "name": "python3"
    },
    "language_info": {
      "codemirror_mode": {
        "name": "ipython",
        "version": 3
      },
      "file_extension": ".py",
      "mimetype": "text/x-python",
      "name": "python",
      "nbconvert_exporter": "python",
      "pygments_lexer": "ipython3",
      "version": "3.6.8"
    },
    "colab": {
      "name": "Lab06-Rezolutie-Skel.ipynb",
      "provenance": [],
      "collapsed_sections": []
    }
  },
  "cells": [
    {
      "cell_type": "markdown",
      "metadata": {
        "id": "__3e8Ju4FOsZ"
      },
      "source": [
        "# Logica cu predicate (2). Rezoluție\n",
        " - Andrei Olaru\n",
        " - Tudor Berariu\n"
      ]
    },
    {
      "cell_type": "markdown",
      "metadata": {
        "id": "FeJLP0FmFOsZ"
      },
      "source": [
        "## Scopul laboratorului\n",
        "\n",
        "Familiarizarea cu mecanismul rezoluției și cu strategiile de rezoluție.\n",
        "\n",
        "#### Resurse\n",
        "\n",
        "Cursul 5 de IA slides 34-44."
      ]
    },
    {
      "cell_type": "markdown",
      "metadata": {
        "id": "_5xMfYbvFOsZ"
      },
      "source": [
        "### Cerința 1\n",
        "\n",
        "* din notebook-ul de la Laboratorul 5 faceți Download as &rarr; Python și salvați fișierul ca `Lab05.py`, în acest director.\n",
        "* adăugați de asemenea în acest director fișierul `Lab05tester.py` (**descărcați din nou** de pe site)."
      ]
    },
    {
      "cell_type": "code",
      "metadata": {
        "id": "d354JZGBFOsZ"
      },
      "source": [
        "# TODO\n",
        "from LPTester import *\n",
        "from Lab05 import *"
      ],
      "execution_count": 993,
      "outputs": []
    },
    {
      "cell_type": "code",
      "metadata": {
        "id": "gGjN4Bb7FOsZ"
      },
      "source": [
        "from copy import deepcopy\n",
        "from functools import reduce\n",
        "\n",
        "# în această celulă se găsesc câteva funcții utilizate intern\n",
        "\n",
        "dummy = make_atom(\"P\")\n",
        "[and_name, or_name, neg_name] = [get_head(s) for s in [make_and(dummy, dummy), make_or(dummy, dummy), make_neg(dummy)]]\n",
        "def pFail(message, f):\n",
        "    print(message + \" <\" + str(f) + \">\")\n",
        "    return False\n",
        "def check_term(T):\n",
        "    if is_constant(T):\n",
        "        return (get_value(T) is not None) or pFail(\"The value of the constant is None\", T)\n",
        "    if is_variable(T):\n",
        "        return (get_name(T) is not None) or pFail(\"The name of the variable is None\", T)\n",
        "    if is_function_call(T):\n",
        "        return not [t for t in get_args(T) if not check_term(t)] and \\\n",
        "            (get_head(T) is not None or pFail(\"Function is not callable\", T))\n",
        "    return pFail(\"Term is not one of constant, variable or function call\", T)\n",
        "def check_atom(A):\n",
        "    if is_atom(A):\n",
        "        return not [t for t in get_args(A) if not check_term(t)] and \\\n",
        "            (get_head(A) is not None or pFail(\"Predicate name is None\", A))\n",
        "    return pFail(\"Is not an atom\", A)\n",
        "def check_sentence(S):\n",
        "    if is_atom(S):\n",
        "        return check_atom(S)\n",
        "    if is_sentence(S):\n",
        "        if get_head(S) in [and_name, or_name]:\n",
        "            return (len(get_args(S)) >= 2 or pFail(\"Sentence has too few operands\", S)) \\\n",
        "                and not [s for s in get_args(S) if not check_sentence(s)]\n",
        "        if get_head(S) == neg_name:\n",
        "            return (len(get_args(S)) == 1 or pFail(\"Negative sentence has not just 1 operand\", S)) \\\n",
        "                and check_sentence(get_args(S)[0])\n",
        "    return pFail(\"Not sentence or unknown type\", S)\n",
        "\n",
        "def add_statement(kb, conclusion, *hypotheses):\n",
        "    s = conclusion if not hypotheses else make_or(*([make_neg(s) for s in hypotheses] + [conclusion]))\n",
        "    if check_sentence(s):\n",
        "        kb.append(s)\n",
        "        print(\"OK: Added statement \" + print_formula(s, True))\n",
        "        return True\n",
        "    print(\"-- FAILED CHECK: Sentence does not check out <\"+print_formula(s, True)+\"><\" + str(s) + \">\")\n",
        "    return False\n",
        "\n",
        "var_no = 0;\n",
        "\n",
        "def assign_next_var_name():\n",
        "    global var_no\n",
        "    var_no += 1\n",
        "    return \"v\" + str(var_no)\n",
        "\n",
        "def gather_vars(S):\n",
        "    return [get_name(S)] if is_variable(S) else \\\n",
        "        [] if not has_args(S) else reduce(lambda res, a: res + gather_vars(a), get_args(S), [])\n",
        "\n",
        "def make_unique_var_names(KB):\n",
        "    global var_no\n",
        "    var_no = 0\n",
        "    return [substitute(S, {var: make_var(assign_next_var_name()) for var in gather_vars(S)}) for S in KB]           \n",
        "            \n",
        "def print_KB(KB):\n",
        "    print(\"KB now:\")\n",
        "    for s in KB:\n",
        "        print(\"\\t\\t\\t\" + print_formula(s, True))\n"
      ],
      "execution_count": 994,
      "outputs": []
    },
    {
      "cell_type": "code",
      "metadata": {
        "colab": {
          "base_uri": "https://localhost:8080/"
        },
        "id": "GFFa8AVlFOsa",
        "outputId": "3db2b308-d6d2-4b20-a086-e2ea60cc9f89"
      },
      "source": [
        "# KB 1\n",
        "# based on an example in Artificial Intelligence - A Modern Approach\n",
        "KB_America = []\n",
        "#0 Mr West is a US general\n",
        "add_statement(KB_America, make_atom(\"USGeneral\", make_const(\"West\")))\n",
        "#1 General Awesome is also a US general\n",
        "add_statement(KB_America, make_atom(\"USGeneral\", make_const(\"General_Awesome\")))\n",
        "#2 General Awesome is Awesome\n",
        "add_statement(KB_America, make_atom(\"Awesome\", make_const(\"General_Awesome\")))\n",
        "#3 Nono is an enemy of America\n",
        "add_statement(KB_America, make_atom(\"Enemy\", make_const(\"Nono\"), make_const(\"America\")))\n",
        "#4 M1 is a type of missile\n",
        "add_statement(KB_America, make_atom(\"Missile\", make_const(\"M1\")))\n",
        "#5 Nono has the M1 missile\n",
        "add_statement(KB_America, make_atom(\"Owns\", make_const(\"Nono\"), make_const(\"M1\")))\n",
        "\n",
        "#6 any US general is an American\n",
        "add_statement(KB_America, make_atom(\"American\", make_var(\"x\")), make_atom(\"USGeneral\", make_var(\"x\")))\n",
        "#7 any missle is a weapon\n",
        "add_statement(KB_America, make_atom(\"Weapon\", make_var(\"x\")), make_atom(\"Missile\", make_var(\"x\")))\n",
        "#8 if anyone owns a missile, it is General West that sold them that missile\n",
        "add_statement(KB_America, make_atom(\"Sells\", make_const(\"West\"), make_var(\"y\"), make_var(\"x\")), make_atom(\"Owns\", make_var(\"x\"), make_var(\"y\")), make_atom(\"Missile\", make_var(\"y\")))\n",
        "#9 any American who sells weapons to a hostile is a criminal\n",
        "add_statement(KB_America, make_atom(\"Criminal\", make_var(\"x\")), make_atom(\"Weapon\", make_var(\"y\")), make_atom(\"Sells\", make_var(\"x\"), make_var(\"y\"), make_var(\"z\")), make_atom(\"Hostile\", make_var(\"z\")), make_atom(\"American\", make_var(\"x\")))\n",
        "#10 any enemy of America is called a hostile\n",
        "add_statement(KB_America, make_atom(\"Hostile\", make_var(\"x\")), make_atom(\"Enemy\", make_var(\"x\"), make_const(\"America\")))\n",
        "#11 America is awesome if at least an American is awesome\n",
        "add_statement(KB_America, make_atom(\"Awesome\", make_const(\"America\")), make_atom(\"American\", make_var(\"x\")), make_atom(\"Awesome\", make_var(\"x\")))\n",
        "\n",
        "KB_America = make_unique_var_names(KB_America)\n",
        "\n",
        "print_KB(KB_America)\n"
      ],
      "execution_count": 995,
      "outputs": [
        {
          "output_type": "stream",
          "text": [
            "OK: Added statement USGeneral(West)\n",
            "OK: Added statement USGeneral(General_Awesome)\n",
            "OK: Added statement Awesome(General_Awesome)\n",
            "OK: Added statement Enemy(Nono, America)\n",
            "OK: Added statement Missile(M1)\n",
            "OK: Added statement Owns(Nono, M1)\n",
            "OK: Added statement (8 6USGeneral(?x) American(?x))\n",
            "OK: Added statement (8 6Missile(?x) Weapon(?x))\n",
            "OK: Added statement (8 6Owns(?x, ?y) 6Missile(?y) Sells(West, ?y, ?x))\n",
            "OK: Added statement (8 6Weapon(?y) 6Sells(?x, ?y, ?z) 6Hostile(?z) 6American(?x) Criminal(?x))\n",
            "OK: Added statement (8 6Enemy(?x, America) Hostile(?x))\n",
            "OK: Added statement (8 6American(?x) 6Awesome(?x) Awesome(America))\n",
            "KB now:\n",
            "\t\t\tUSGeneral(West)\n",
            "\t\t\tUSGeneral(General_Awesome)\n",
            "\t\t\tAwesome(General_Awesome)\n",
            "\t\t\tEnemy(Nono, America)\n",
            "\t\t\tMissile(M1)\n",
            "\t\t\tOwns(Nono, M1)\n",
            "\t\t\t(8 6USGeneral(?v2) American(?v2))\n",
            "\t\t\t(8 6Missile(?v4) Weapon(?v4))\n",
            "\t\t\t(8 6Owns(?v9, ?v8) 6Missile(?v8) Sells(West, ?v8, ?v9))\n",
            "\t\t\t(8 6Weapon(?v12) 6Sells(?v16, ?v12, ?v14) 6Hostile(?v14) 6American(?v16) Criminal(?v16))\n",
            "\t\t\t(8 6Enemy(?v18, America) Hostile(?v18))\n",
            "\t\t\t(8 6American(?v20) 6Awesome(?v20) Awesome(America))\n"
          ],
          "name": "stdout"
        }
      ]
    },
    {
      "cell_type": "code",
      "metadata": {
        "colab": {
          "base_uri": "https://localhost:8080/"
        },
        "id": "6x3YvilHFOsa",
        "outputId": "373ce971-9d4e-40b8-af1a-af70ebe1d607"
      },
      "source": [
        "# KB 2\n",
        "# din cursul de IA\n",
        "KB_Faster = []\n",
        "\n",
        "def the_greyhound():\n",
        "    return make_const(\"Greg\")\n",
        "\n",
        "#0 horses are faster than dogs\n",
        "add_statement(KB_Faster, make_atom(\"Faster\", make_var(\"x\"), make_var(\"y\")), make_atom(\"Horse\", make_var(\"x\")), make_atom(\"Dog\", make_var(\"y\")))\n",
        "#1 there is a greyhound that is faster than any rabbit\n",
        "add_statement(KB_Faster, make_atom(\"Faster\", make_function_call(the_greyhound), make_var(\"z\")), make_atom(\"Rabbit\", make_var(\"z\")))\n",
        "#2 Harry is a horse\n",
        "add_statement(KB_Faster, make_atom(\"Horse\", make_const(\"Harry\")))\n",
        "#3 Ralph is a rabbit\n",
        "add_statement(KB_Faster, make_atom(\"Rabbit\", make_const(\"Ralph\")))\n",
        "#4 Greg is a greyhound\n",
        "add_statement(KB_Faster, make_atom(\"Greyhound\", make_function_call(the_greyhound)))\n",
        "#5 A greyhound is a dog\n",
        "add_statement(KB_Faster, make_atom(\"Dog\", make_var(\"y\")), make_atom(\"Greyhound\", make_var(\"y\")))\n",
        "#6 transitivity\n",
        "add_statement(KB_Faster, make_atom(\"Faster\", make_var(\"x\"), make_var(\"z\")),\n",
        "              make_atom(\"Faster\", make_var(\"x\"), make_var(\"y\")), make_atom(\"Faster\", make_var(\"y\"), make_var(\"z\")))\n",
        "\n",
        "KB_Faster = make_unique_var_names(KB_Faster)\n",
        "\n",
        "print_KB(KB_Faster)\n"
      ],
      "execution_count": 996,
      "outputs": [
        {
          "output_type": "stream",
          "text": [
            "OK: Added statement (8 6Horse(?x) 6Dog(?y) Faster(?x, ?y))\n",
            "OK: Added statement (8 6Rabbit(?z) Faster(<function the_greyhound at 0x7f51338ad400>[], ?z))\n",
            "OK: Added statement Horse(Harry)\n",
            "OK: Added statement Rabbit(Ralph)\n",
            "OK: Added statement Greyhound(<function the_greyhound at 0x7f51338ad400>[])\n",
            "OK: Added statement (8 6Greyhound(?y) Dog(?y))\n",
            "OK: Added statement (8 6Faster(?x, ?y) 6Faster(?y, ?z) Faster(?x, ?z))\n",
            "KB now:\n",
            "\t\t\t(8 6Horse(?v3) 6Dog(?v4) Faster(?v3, ?v4))\n",
            "\t\t\t(8 6Rabbit(?v6) Faster(<function the_greyhound at 0x7f51338ad400>[], ?v6))\n",
            "\t\t\tHorse(Harry)\n",
            "\t\t\tRabbit(Ralph)\n",
            "\t\t\tGreyhound(<function the_greyhound at 0x7f51338ad400>[])\n",
            "\t\t\t(8 6Greyhound(?v8) Dog(?v8))\n",
            "\t\t\t(8 6Faster(?v13, ?v11) 6Faster(?v11, ?v14) Faster(?v13, ?v14))\n"
          ],
          "name": "stdout"
        }
      ]
    },
    {
      "cell_type": "code",
      "metadata": {
        "colab": {
          "base_uri": "https://localhost:8080/"
        },
        "id": "I4X6ClUWFOsa",
        "outputId": "e9aba52c-69cd-46fb-f468-be662737acd3"
      },
      "source": [
        "KB_test = []\n",
        "add_statement(KB_test, make_atom(\"Q\", make_var(\"x\")), make_atom(\"P\", make_var(\"x\")))\n",
        "add_statement(KB_test, make_atom(\"P\", make_const(\"A\")))\n",
        "\n",
        "KB_test = make_unique_var_names(KB_test)\n",
        "print_KB(KB_test)"
      ],
      "execution_count": 997,
      "outputs": [
        {
          "output_type": "stream",
          "text": [
            "OK: Added statement (8 6P(?x) Q(?x))\n",
            "OK: Added statement P(A)\n",
            "KB now:\n",
            "\t\t\t(8 6P(?v2) Q(?v2))\n",
            "\t\t\tP(A)\n"
          ],
          "name": "stdout"
        }
      ]
    },
    {
      "cell_type": "markdown",
      "metadata": {
        "id": "aBUQdIPUFOsa"
      },
      "source": [
        "### Cerința 2\n",
        "\n",
        "* Implementați funcția `resolves`, care primește două clauze (literali sau disjuncții de literali) și întoarce `False` dacă cele două clauze nu rezolvă, altfel un tuplu care conține literalii care rezolvă, din cele două clauze, și substituția sub care aceștia rezolvă.\n",
        "\n",
        "* Două clauze rezolvă dacă se găsește un literal pozitiv într-o clauză și un literal negativ în cealaltă, iar atomii celor doi literali unifică."
      ]
    },
    {
      "cell_type": "code",
      "metadata": {
        "colab": {
          "base_uri": "https://localhost:8080/"
        },
        "id": "0aq1Iez7FOsa",
        "outputId": "069d98ad-9e82-4afb-b23f-a83b974c7d71"
      },
      "source": [
        "def is_positive_literal(L):\n",
        "    return is_atom(L)\n",
        "def is_negative_literal(L):\n",
        "    global neg_name\n",
        "    return get_head(L) == neg_name and is_positive_literal(get_args(L)[0])\n",
        "def is_literal(L):\n",
        "    return is_positive_literal(L) or is_negative_literal(L)\n",
        "\n",
        "def aux_literals(L1, L2):\n",
        "  if (is_positive_literal(L1) and is_positive_literal(L2)) or (not is_positive_literal(L1) and not is_positive_literal(L2)):\n",
        "    return False\n",
        "  if is_positive_literal(L1) and not is_positive_literal(L2):\n",
        "    return unify(make_neg(L1), L2)\n",
        "  if not is_positive_literal(L1) and is_positive_literal(L2):\n",
        "    return unify(L1, make_neg(L2))\n",
        "  return False\n",
        "\n",
        "\n",
        "def resolves(C1, C2):\n",
        "    #print(\"testing \" + print_formula(C1, True) + \" and \" + print_formula(C2, True))\n",
        "    #ambii sunt literali => fac unificare\n",
        "    if is_literal(C1) and is_literal(C2):\n",
        "      aux = aux_literals(C1, C2)\n",
        "      if aux != False:\n",
        "        return (C1,C2,aux)\n",
        "\n",
        "    #doar unul e literal => ciclez prin literalii celuilalt si incerc sa unific\n",
        "    if is_literal(C1) and not is_literal(C2):\n",
        "      for L in get_args(C2):\n",
        "        aux = aux_literals(C1, L)\n",
        "        if aux != False:\n",
        "          return (C1, L, aux)\n",
        "\n",
        "    if not is_literal(C1) and is_literal(C2):\n",
        "      for L in get_args(C1):\n",
        "        aux = aux_literals(L, C2)\n",
        "        if aux != False:\n",
        "          return (L, C2, aux)\n",
        "  \n",
        "    #niciunul nu e literal => ciclez prin literalii ambilor si incerc sa unific\n",
        "    if not is_literal(C1) and not(is_literal(C2)):\n",
        "      for L1 in get_args(C1):\n",
        "        for L2 in get_args(C2):\n",
        "          aux = aux_literals(L1, L2)\n",
        "          if aux != False:\n",
        "            return (L1, L2, aux)\n",
        "    # întoarce un tuplu (literal-din-C1, literal-din-C2, substituție)\n",
        "    # unde literal-din-C1 și literal-din-C2 unifică sub substituție\n",
        "    return False\n",
        "\n",
        "# Test!\n",
        "test_batch(4, globals())"
      ],
      "execution_count": 998,
      "outputs": [
        {
          "output_type": "stream",
          "text": [
            ">>> Test batch [4]\n",
            "Test 0: OK, got < (USGeneral(General_Awesome), 6USGeneral(?v2), {?v2 -> General_Awesome} >\n",
            "Test 1: OK, got < (Owns(Nono, M1), 6Owns(?v9, ?v8), {?v8 -> M1, ?v9 -> Nono} >\n",
            "Test 2: OK, got < (6American(?v16), American(?v2), {?v16 -> ?v2} >\n",
            "Test 3: OK, got < (Enemy(Nono, America), 6Enemy(?v18, America), {?v18 -> Nono} >\n",
            "Test 4: OK, got < False >\n",
            "Test 5: OK, got < False >\n",
            "Test 6: OK, got < False >\n",
            "Test 7: OK, got < False >\n",
            "Test 8: OK, got < (Q(5), 6Q(5), {} >\n",
            "Test 9: OK, got < False >\n",
            ">>>  10 / 10 tests successful.\n"
          ],
          "name": "stdout"
        }
      ]
    },
    {
      "cell_type": "code",
      "metadata": {
        "id": "iV2GxeS-FOsb"
      },
      "source": [
        "# prints a 5-tuple resolvent representation (see below)\n",
        "def print_r(R):\n",
        "    if R is None:\n",
        "        print(\"no resolvent\")\n",
        "    else:\n",
        "        print(\"resolvent: \" + print_formula(R[2], True) + \"/\" + print_formula(R[3], True) \\\n",
        "              + \" {\" + \", \".join([(k + \": \" + str(R[4][k])) for k in R[4]]) + \"}\" \\\n",
        "              + \"\\n\\t\\t in \" + print_formula(R[0], True) + \"\\n\\t\\t and \" + print_formula(R[1], True))\n"
      ],
      "execution_count": 999,
      "outputs": []
    },
    {
      "cell_type": "markdown",
      "metadata": {
        "id": "UEEr96XjFOsb"
      },
      "source": [
        "### Cerința 3\n",
        "* implementați funcția `new_clause`, care întoarce o nouă clauză pe baza unui rezolvent, reprezentat ca un tuplu de 5 elemente:\n",
        "  * cele 2 clauze care rezolvă;\n",
        "  * cei 2 literali, unul din prima clauză, și unul din a doua clauză, care rezolvă (dați așa cum sunt ei în cele 2 clauze);\n",
        "  * substituția sub care rezolvă cei doi literali.\n",
        "* dacă rezultatul pasului de rezoluție este clauza vidă, funcția trebuie să întoarcă `VOID_CLAUSE`.\n",
        "* altfel, rezultatul trebuie să fie o clauză care:\n",
        "  * conține toți literalii din clauzele care au rezolvat, dar\n",
        "  * nu conține literalii care au rezolvat, și\n",
        "  * are substituția aplicată (este deja implementată funcția `substitute` în laboratorul 5), și\n",
        "  * nu conține același literal de mai multe ori."
      ]
    },
    {
      "cell_type": "code",
      "metadata": {
        "colab": {
          "base_uri": "https://localhost:8080/"
        },
        "id": "cmvLnsyDFOsb",
        "outputId": "efa57957-0f74-4e16-fb1c-b80f50e6ea85"
      },
      "source": [
        "VOID_CLAUSE = \"The void clause\"\n",
        "\n",
        "def new_clause(resolvent):\n",
        "    new_C=None\n",
        "    C1, C2, L1, L2, s = resolvent\n",
        "    \n",
        "    # TODO\n",
        "    if is_literal(C1) and is_literal(C2):\n",
        "      print('a')\n",
        "      new_C=VOID_CLAUSE\n",
        "    #doar C2 nu e literal => din C2 scot L2, inlocuiesc argumentele si fac subst\n",
        "    if is_literal(C1) and not is_literal(C2):\n",
        "      print('b')\n",
        "      C2_a=get_args(C2)\n",
        "      C2_a.remove(L2)\n",
        "      C2_new=replace_args(C2, C2_a)\n",
        "      C2_new=substitute(C2_new, s)\n",
        "      if C2_new[1] == OR:\n",
        "        args = get_args(C2_new)\n",
        "      else:\n",
        "        args = [C2_new]\n",
        "      if len(args) > 1:\n",
        "        new_C = make_or(*args)\n",
        "      elif len(args)==1:\n",
        "        new_C = args[0]\n",
        "    #doar C1 nu e literal => din C1 scot L1, inlocuiesc si fac substitutie\n",
        "    if not is_literal(C1) and is_literal(C2):\n",
        "      print('c')\n",
        "      C1_a=get_args(C1)\n",
        "      C1_a.remove(L1)\n",
        "      C1_new=replace_args(C1, C1_a)\n",
        "      C1_new=substitute(C1_new, s)\n",
        "      if C1_new[1] == OR:\n",
        "        args = get_args(C1_new)\n",
        "      else:\n",
        "        args = [C1_new]\n",
        "      if len(args) > 1:\n",
        "        new_C = make_or(*args)\n",
        "      elif len(args)==1:\n",
        "        new_C = args[0]\n",
        "    #ambele sunt compuse => probabil fac la fel, dar concatenez rezultatele \n",
        "    if not is_literal(C1) and not is_literal(C2):\n",
        "      print('d')\n",
        "      C1_a=get_args(C1)\n",
        "      C1_a.remove(L1)\n",
        "      C1_new=replace_args(C1, C1_a)\n",
        "      C1_new=substitute(C1_new, s)\n",
        "      \n",
        "      C2_a=get_args(C2)\n",
        "      C2_a.remove(L2)\n",
        "      C2_new=replace_args(C2, C2_a)\n",
        "      C2_new=substitute(C2_new, s)\n",
        "\n",
        "      if C1_new[1] == OR:\n",
        "        args_C1 = get_args(C1_new)\n",
        "      else:\n",
        "        args_C1 = [C1_new]\n",
        "\n",
        "      if C2_new[1] == OR:\n",
        "        args_C2 = get_args(C2_new)\n",
        "      else:\n",
        "        args_C2 = [C2_new]\n",
        "\n",
        "      args_final = args_C1 + args_C2\n",
        "      new_C = make_or(*args_final)\n",
        "    return new_C\n",
        "\n",
        "# Test!\n",
        "test_batch(5, globals())"
      ],
      "execution_count": 1000,
      "outputs": [
        {
          "output_type": "stream",
          "text": [
            ">>> Test batch [5]\n",
            "a\n",
            "Test 0: OK, got < The void clause >\n",
            "c\n",
            "Test 1: OK, got < Q(?y) >\n",
            "b\n",
            "Test 2: OK, got < 6Q(5) >\n",
            "d\n",
            "Test 3: OK\n",
            ">>>  4 / 4 tests successful.\n"
          ],
          "name": "stdout"
        }
      ]
    },
    {
      "cell_type": "markdown",
      "metadata": {
        "id": "fb5hILb0FOsb"
      },
      "source": [
        "### Cerința 4\n",
        "\n",
        "* implementați partea lipsă din funcția `solve_problem`, utilizând o strategie de rezoluție la alegere pentru a alege două clauze care rezolvă, și adăugând rezultatul pasului de rezoluție la baza de cunoștințe."
      ]
    },
    {
      "cell_type": "code",
      "metadata": {
        "scrolled": true,
        "colab": {
          "base_uri": "https://localhost:8080/"
        },
        "id": "ffcA7a0iFOsb",
        "outputId": "6ba4adac-5310-4098-a257-df6865276211"
      },
      "source": [
        "def solve_problem(hypotheses, conclusion):\n",
        "    KB = hypotheses[:]\n",
        "    KB = [make_neg(conclusion)] + KB # puteți adăuga și la sfârșit (în funcție de strategie)\n",
        "    Effort = 50 # puteți crește efortul dacă este necesar\n",
        "    \n",
        "    while Effort > 0:\n",
        "        Effort -= 1\n",
        "      \n",
        "        # Se aleg două clauze Clauza1 și Clauza2, care nu au mai fost alese anterior\n",
        "        \n",
        "        # Se calculează un rezolvent, ca tuplu (Clauza1, Clauza2, Literal-din-clauza1, Literal-din-clauza2, substituție)\n",
        "        resolvent = None # TODO\n",
        "        flag = False\n",
        "        for C1 in KB:\n",
        "          for C2 in KB:\n",
        "            flag2 = resolves(C1, C2)\n",
        "            if flag2 != False:\n",
        "              flag = True\n",
        "              (L1, L2, res) = flag2\n",
        "              resolvent = (C1,C2,L1,L2,res)\n",
        "          if flag:\n",
        "            break\n",
        "        print_r(resolvent)\n",
        "        if resolvent is None:\n",
        "            print(\"Failed. No resolving clauses. Effort left \" + str(Effort))\n",
        "            return False\n",
        "        \n",
        "        # Se calculează noua clauză de adăugat și se adaugă la baza de cunoștințe\n",
        "        \n",
        "        C = new_clause(resolvent)\n",
        "        \n",
        "        if C == VOID_CLAUSE:\n",
        "            print(\"Done (effort left \" + str(Effort) + \")\")\n",
        "            return True\n",
        "        \n",
        "        # update KB\n",
        "        print(\"Added: \" + print_formula(C, True))\n",
        "        KB = [C] + KB\n",
        "\n",
        "        print_KB(KB)\n",
        "    print(\"Failed. Effort exhausted.\")\n",
        "                \n",
        "        \n",
        "#print_KB(KB_test)\n",
        "solve_problem(deepcopy(KB_test), make_atom(\"Q\", make_const(\"A\")))\n",
        "print(\"==========================================\")\n",
        "\n",
        "#print_KB(KB_America)\n",
        "# solve_problem(deepcopy(KB_America), make_atom(\"Criminal\", make_const(\"West\")))\n",
        "print(\"==========================================\")\n",
        "\n",
        "#print_KB(KB_Faster)\n",
        "# solve_problem(deepcopy(KB_Faster), make_atom(\"Faster\", make_const(\"Harry\"), make_const(\"Ralph\")))\n",
        "print(\"==========================================\")\n"
      ],
      "execution_count": 1001,
      "outputs": [
        {
          "output_type": "stream",
          "text": [
            "resolvent: 6Q(A)/Q(?v2) {v2: (1, 'A')}\n",
            "\t\t in 6Q(A)\n",
            "\t\t and (8 6P(?v2) Q(?v2))\n",
            "b\n",
            "Added: 6P(A)\n",
            "KB now:\n",
            "\t\t\t6P(A)\n",
            "\t\t\t6Q(A)\n",
            "\t\t\t86P(?v2)\n",
            "\t\t\tP(A)\n",
            "resolvent: 6P(A)/P(A) {}\n",
            "\t\t in 6P(A)\n",
            "\t\t and P(A)\n",
            "a\n",
            "Done (effort left 48)\n",
            "==========================================\n",
            "==========================================\n",
            "==========================================\n"
          ],
          "name": "stdout"
        }
      ]
    },
    {
      "cell_type": "code",
      "metadata": {
        "id": "hidHVIi0FOsb"
      },
      "source": [
        ""
      ],
      "execution_count": 1001,
      "outputs": []
    }
  ]
}