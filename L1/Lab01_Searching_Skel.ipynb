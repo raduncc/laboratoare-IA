{
  "nbformat": 4,
  "nbformat_minor": 0,
  "metadata": {
    "kernelspec": {
      "display_name": "Python 3",
      "language": "python",
      "name": "python3"
    },
    "language_info": {
      "codemirror_mode": {
        "name": "ipython",
        "version": 3
      },
      "file_extension": ".py",
      "mimetype": "text/x-python",
      "name": "python",
      "nbconvert_exporter": "python",
      "pygments_lexer": "ipython3",
      "version": "3.6.8"
    },
    "colab": {
      "name": "Lab01-Searching-Skel.ipynb",
      "provenance": [],
      "collapsed_sections": []
    }
  },
  "cells": [
    {
      "cell_type": "markdown",
      "metadata": {
        "id": "-fdRwXn6oZO-"
      },
      "source": [
        "## Inteligență Artificială - Laboratorul 1 : Căutări\n",
        " - Tudor Berariu <tudor.berariu@gmail.com>\n",
        " - Andrei Olaru <cs@andreiolaru.ro>"
      ]
    },
    {
      "cell_type": "markdown",
      "metadata": {
        "id": "PCFdKlxCoZO_"
      },
      "source": [
        "### Scopul laboratorului\n",
        "\n",
        "De foarte multe ori problemele care sunt legate de domeniul inteligenței artificiale sunt abstractizate ca o **căutare în spațiul stărilor** problemei. Laboratorul de astăzi își propune să recapituleze câteva noțiuni legate de limbajul de programare **Python** și să prezinte un algoritm de căutare informată: **A\\***."
      ]
    },
    {
      "cell_type": "markdown",
      "metadata": {
        "id": "OiqJD-qdoZPA"
      },
      "source": [
        "### Problema\n",
        "\n",
        "În cadrul acestui laborator vom rezolva problema găsirii unui drum între două poziții pe o hartă bidimensională. Harta va avea și obstacole peste care nu se poate trece.\n",
        "\n",
        "Problemele de căutare sunt în general abstractizate cu grafuri. Harta bidimensională poate fi văzută ca un graf neorientat în care fiecare nod corespunde unei celule de pe hartă, iar o muchie conectează nodurile corespunzătoare  unor celule adiacente."
      ]
    },
    {
      "cell_type": "markdown",
      "metadata": {
        "id": "ecrvBedHoZPC"
      },
      "source": [
        "#### Pastila de Python"
      ]
    },
    {
      "cell_type": "code",
      "metadata": {
        "id": "iasu2gmhoZPD",
        "outputId": "a895db08-635e-4678-965d-f8fab36f49ef",
        "colab": {
          "base_uri": "https://localhost:8080/",
          "height": 51
        }
      },
      "source": [
        "# Instanțierea unei variabile\n",
        "a = 10\n",
        "print(a)  # ==> a\n",
        "a += 3\n",
        "print(a) # ==> a"
      ],
      "execution_count": 97,
      "outputs": [
        {
          "output_type": "stream",
          "text": [
            "10\n",
            "13\n"
          ],
          "name": "stdout"
        }
      ]
    },
    {
      "cell_type": "code",
      "metadata": {
        "id": "zQw3MHvKoZPJ",
        "outputId": "83675283-3459-4cfd-9506-1868922c7ce8",
        "colab": {
          "base_uri": "https://localhost:8080/",
          "height": 51
        }
      },
      "source": [
        "# Liste\n",
        "l1 = [1, 2, 3, 4]  # O listă definită explicit\n",
        "l2 = [x*x for x in range(4)]  # List comprehension\n",
        "l3 = [(chr(i), j) for i in range(ord('a'), ord('c')+1) for j in range(1,3)]\n",
        "l4 = l1 + l2 + l3  # Concatenarea listelor; Observație: listele nu sunt tipate\n",
        "\n",
        "print(l4)  # Se afișează lista l4\n",
        "print(l4[3:-3])  # Se afișează lista l4 fără primele 3 și ultimele 3 elemente"
      ],
      "execution_count": 98,
      "outputs": [
        {
          "output_type": "stream",
          "text": [
            "[1, 2, 3, 4, 0, 1, 4, 9, ('a', 1), ('a', 2), ('b', 1), ('b', 2), ('c', 1), ('c', 2)]\n",
            "[4, 0, 1, 4, 9, ('a', 1), ('a', 2), ('b', 1)]\n"
          ],
          "name": "stdout"
        }
      ]
    },
    {
      "cell_type": "markdown",
      "metadata": {
        "id": "WSjYUqkMoZPN"
      },
      "source": [
        "#### Labirintul"
      ]
    },
    {
      "cell_type": "code",
      "metadata": {
        "id": "_VZFFxVaoZPO",
        "outputId": "4eeba33d-6ef5-487f-b966-759d18beb6f1",
        "colab": {
          "base_uri": "https://localhost:8080/",
          "height": 215
        }
      },
      "source": [
        "# Vom reprezenta labirintul printr-un tablou bidimensional (o listă de liste)\n",
        "# celulele libere vor avea valoarea 0, iar pereții valoarea 1\n",
        "\n",
        "height = 10\n",
        "width = 20\n",
        "\n",
        "# Construim labirintul ca o listă de liste\n",
        "labyrinth = [[0 for c in range(width)] for r in range(height)]\n",
        "\n",
        "# Așezăm câteva obstacole pe hartă\n",
        "for r in range(2, 7):\n",
        "    labyrinth[r][6] = 1\n",
        "    labyrinth[6][r] = 1\n",
        "labyrinth[2][7] = 1\n",
        "\n",
        "%matplotlib inline\n",
        "import matplotlib.pyplot as pyplot\n",
        "pyplot.imshow(labyrinth, cmap='Greys', interpolation='nearest');"
      ],
      "execution_count": 99,
      "outputs": [
        {
          "output_type": "display_data",
          "data": {
            "image/png": "[encoded data removed]",
            "text/plain": [
              "<Figure size 432x288 with 1 Axes>"
            ]
          },
          "metadata": {
            "tags": [],
            "needs_background": "light"
          }
        }
      ]
    },
    {
      "cell_type": "code",
      "metadata": {
        "id": "-IZel0TpoZPQ",
        "outputId": "4108aa98-e161-4d92-9c9e-84b1d8809cb5",
        "colab": {
          "base_uri": "https://localhost:8080/",
          "height": 34
        }
      },
      "source": [
        "# Punctul de plecare și punctul destinație vor fi reprezentate prin tupluri\n",
        "start = (5, 5)\n",
        "final = (8, 8)\n",
        "\n",
        "# Funcții lambda, funcționale, lucruri frumoase\n",
        "is_final = lambda position: position == final\n",
        "\n",
        "# Map\n",
        "list(map(is_final, [(1,1), (3, 6), (8, 8)]))"
      ],
      "execution_count": 100,
      "outputs": [
        {
          "output_type": "execute_result",
          "data": {
            "text/plain": [
              "[False, False, True]"
            ]
          },
          "metadata": {
            "tags": []
          },
          "execution_count": 100
        }
      ]
    },
    {
      "cell_type": "code",
      "metadata": {
        "id": "wkSNA9c8oZPT",
        "outputId": "d14c4d66-a396-4a00-9078-508b5f070844",
        "colab": {
          "base_uri": "https://localhost:8080/",
          "height": 34
        }
      },
      "source": [
        "# Filter\n",
        "list(filter(lambda x: x % 3 == 2, range(20)))  # ==> [2, 5, 8, 11, 14, 17]"
      ],
      "execution_count": 101,
      "outputs": [
        {
          "output_type": "execute_result",
          "data": {
            "text/plain": [
              "[2, 5, 8, 11, 14, 17]"
            ]
          },
          "metadata": {
            "tags": []
          },
          "execution_count": 101
        }
      ]
    },
    {
      "cell_type": "code",
      "metadata": {
        "id": "Z-T6i87DoZPW",
        "outputId": "7e47b09b-f427-4304-dd03-2a11058d3d5e",
        "colab": {
          "base_uri": "https://localhost:8080/",
          "height": 34
        }
      },
      "source": [
        "from functools import reduce\n",
        "\n",
        "# Reduce\n",
        "reduce(lambda x, y: [y] + x, [], [1,2,3])  # ==> [1, 2, 3]"
      ],
      "execution_count": 102,
      "outputs": [
        {
          "output_type": "execute_result",
          "data": {
            "text/plain": [
              "[1, 2, 3]"
            ]
          },
          "metadata": {
            "tags": []
          },
          "execution_count": 102
        }
      ]
    },
    {
      "cell_type": "markdown",
      "metadata": {
        "id": "8C7yIdkYoZPZ"
      },
      "source": [
        "### Algoritmul A*"
      ]
    },
    {
      "cell_type": "markdown",
      "metadata": {
        "id": "Ak0XidhooZPZ"
      },
      "source": [
        "Pentru a implementa algoritmul **A\\*** vom scrie întâi o funcție care întoarce lista tuturor pozițiilor vecine unei poziții date."
      ]
    },
    {
      "cell_type": "code",
      "metadata": {
        "id": "xHgUHVb6oZPZ",
        "outputId": "fe3ddd17-0eed-4d9c-a946-d8e00047ba8e",
        "colab": {
          "base_uri": "https://localhost:8080/",
          "height": 34
        }
      },
      "source": [
        "# Scrieți o funcție care verifică dacă un tuplu dat reprezintă\n",
        "# coordonatele unei poziții libere de pe hartă (coordonatele nu depășesc limitele hărții\n",
        "# și acolo nu se găsește un obstacol)\n",
        "\n",
        "def is_good(pos):\n",
        "    if pos[0] < height and pos[0] >= 0 and pos[1] < width and pos[1] >= 0 and labyrinth[pos[0]][pos[1]] != 1:\n",
        "      return True\n",
        "    return False\n",
        "\n",
        "list(map(is_good, [(-1,2), (height,3), (width,4), (5,5), (6,6)])) # False, False, False, True, False"
      ],
      "execution_count": 103,
      "outputs": [
        {
          "output_type": "execute_result",
          "data": {
            "text/plain": [
              "[False, False, False, True, False]"
            ]
          },
          "metadata": {
            "tags": []
          },
          "execution_count": 103
        }
      ]
    },
    {
      "cell_type": "code",
      "metadata": {
        "id": "40kzT0OUoZPb",
        "outputId": "bc77d339-ee7f-42f4-8c35-5d2d67c0638a",
        "colab": {
          "base_uri": "https://localhost:8080/",
          "height": 34
        }
      },
      "source": [
        "# Scrieți o funcție care întoarce celulele vecine poziției date (doar cele libere)\n",
        "# Folosiți funcționala filter și funcția is_good scrisă anterior\n",
        "\n",
        "def get_neighbours(pos):\n",
        "    (r, c) = pos # Așa se poate desface o poziție în componentele sale\n",
        "    # TODO\n",
        "    my_list = [(r-1,c),(r+1,c),(r,c-1),(r,c+1)]\n",
        "    return list(filter(lambda x: is_good(x), my_list))\n",
        "\n",
        "[get_neighbours(p) for p in [(0,9), (5,5)]] # ==> [[(1,9), (0,8), (0, 10)], [(4,5), (5,4)]] - nu neaparat în ordinea asta"
      ],
      "execution_count": 104,
      "outputs": [
        {
          "output_type": "execute_result",
          "data": {
            "text/plain": [
              "[[(1, 9), (0, 8), (0, 10)], [(4, 5), (5, 4)]]"
            ]
          },
          "metadata": {
            "tags": []
          },
          "execution_count": 104
        }
      ]
    },
    {
      "cell_type": "markdown",
      "metadata": {
        "id": "Z381RIBEoZPd"
      },
      "source": [
        "#### Funcții euristice\n",
        "\n",
        "Implementați două funcții euristice pe care să le folosiți în algoritmul **A\\***:\n",
        " - distanța euclidiană\n",
        " - distanța Manhattan"
      ]
    },
    {
      "cell_type": "code",
      "metadata": {
        "id": "5MjZz2zyoZPe",
        "outputId": "cab230a9-01d5-403a-a63e-3964fb6825ca",
        "colab": {
          "base_uri": "https://localhost:8080/",
          "height": 34
        }
      },
      "source": [
        "from math import sqrt, pow\n",
        "\n",
        "def euclidean_distance(a, b):\n",
        "    # TODO\n",
        "    return sqrt(pow((a[0]-b[0]),2) + pow((a[1]-b[1]),2))\n",
        "\n",
        "euclidean_distance((2,3), (4, 7))   # ==> 4.4721359"
      ],
      "execution_count": 105,
      "outputs": [
        {
          "output_type": "execute_result",
          "data": {
            "text/plain": [
              "4.47213595499958"
            ]
          },
          "metadata": {
            "tags": []
          },
          "execution_count": 105
        }
      ]
    },
    {
      "cell_type": "code",
      "metadata": {
        "id": "jdMMDhiooZPf",
        "outputId": "7f3c739e-a6f7-4961-fb4e-a36e6a593a26",
        "colab": {
          "base_uri": "https://localhost:8080/",
          "height": 34
        }
      },
      "source": [
        "def manhattan_distance(a, b):\n",
        "    # TODO\n",
        "    return abs(a[0]-b[0])+abs(a[1]-b[1])\n",
        "\n",
        "manhattan_distance((2,3), (4,0))  # ==> 5"
      ],
      "execution_count": 106,
      "outputs": [
        {
          "output_type": "execute_result",
          "data": {
            "text/plain": [
              "5"
            ]
          },
          "metadata": {
            "tags": []
          },
          "execution_count": 106
        }
      ]
    },
    {
      "cell_type": "markdown",
      "metadata": {
        "id": "6FqiBAS9oZPh"
      },
      "source": [
        "#### Cozi de priorități\n",
        "\n",
        "Pentru coada de priorități necesară algoritmului **A\\*** vom folosi heap-ul din Python [[1]](https://docs.python.org/2/library/heapq.html)."
      ]
    },
    {
      "cell_type": "code",
      "metadata": {
        "id": "hibdly9ZoZPi",
        "outputId": "fe2119b2-b618-449d-aa4f-566b8b541a49",
        "colab": {
          "base_uri": "https://localhost:8080/",
          "height": 68
        }
      },
      "source": [
        "from heapq import heappop, heappush\n",
        "\n",
        "priority_queue = []\n",
        "heappush(priority_queue, (2, 'A'))\n",
        "heappush(priority_queue, (1, 'B'))\n",
        "heappush(priority_queue, (1.5, 'C'))\n",
        "\n",
        "print(heappop(priority_queue))  # ==> (1, 'B')\n",
        "print(heappop(priority_queue))  # ==> (1.5, 'C')\n",
        "print(heappop(priority_queue))  # ==> (2, 'A')"
      ],
      "execution_count": 107,
      "outputs": [
        {
          "output_type": "stream",
          "text": [
            "(1, 'B')\n",
            "(1.5, 'C')\n",
            "(2, 'A')\n"
          ],
          "name": "stdout"
        }
      ]
    },
    {
      "cell_type": "markdown",
      "metadata": {
        "id": "jdWttCoqoZPk"
      },
      "source": [
        "#### Dicționare\n",
        "\n",
        "Algoritmul **A\\*** memorează în timpul rulării informații despre pozițiile descoperite pe parcurs. Pentru a salva și recupera aceste informații în O(1) vom folosi o tabelă de dispersie, un dicționar în Python."
      ]
    },
    {
      "cell_type": "code",
      "metadata": {
        "id": "W_3_g-AZoZPk",
        "outputId": "235dce62-9140-4b12-9162-aff36a86e304",
        "colab": {
          "base_uri": "https://localhost:8080/",
          "height": 102
        }
      },
      "source": [
        "# Dicționare\n",
        "d = {}\n",
        "d['doi'] = 2\n",
        "d['trei'] = 3\n",
        "\n",
        "print(d['doi']) # ==> 2\n",
        "\n",
        "# Funcția get\n",
        "print(d.get('trei'))  # ==> 3\n",
        "print(d.get('patru', 'Nu am găsit!'))  # ==> Nu am găsit!\n",
        "\n",
        "for (key, value) in d.items():\n",
        "    print(key, \" -> \", value)"
      ],
      "execution_count": 108,
      "outputs": [
        {
          "output_type": "stream",
          "text": [
            "2\n",
            "3\n",
            "Nu am găsit!\n",
            "doi  ->  2\n",
            "trei  ->  3\n"
          ],
          "name": "stdout"
        }
      ]
    },
    {
      "cell_type": "markdown",
      "metadata": {
        "id": "Qy9xZk4RoZPm"
      },
      "source": [
        "#### Algoritmul A\\*\n",
        "\n",
        "Scrieți o funcție ce implementează algoritmul **A\\***. Funcția va primi 3 argumente:\n",
        " - poziția de start\n",
        " - poziția finală\n",
        " - funcția euristică folosită\n",
        " \n",
        "Frontiera va fi o coadă de priorități ce va conține nodurile descoperite:\n",
        " - prioritatea va fi dată de funcția f (cost real din nodul de start + valoare estimată până la nodul final)\n",
        "\n",
        "Pentru informațiile ce trebuie memorate pentru fiecare nod descoperit se va folosi un dicționar\n",
        "\n",
        "    d[node] = (parent, cost)\n",
        "    \n",
        "în care se vor reține părintele nodului și costul cu care a fost descoperit."
      ]
    },
    {
      "cell_type": "code",
      "metadata": {
        "id": "GHHHxGM4oZPn"
      },
      "source": [
        "def astar(start, end, h):\n",
        "    # Frontiera, ca listă (heap) de tupluri (cost-total-estimat, nod)\n",
        "    frontier = [] \n",
        "    heappush(frontier, (0 + h(start, end), start))\n",
        "    # # Nodurile descoperite ca dicționar nod -> (părinte, cost-până-la-nod)\n",
        "    discovered = {start: (None, 0)}\n",
        "\n",
        "    gScore = {}\n",
        "    gScore[start] = 0\n",
        "    fScore = {}\n",
        "    fScore[start] = h(start, end)\n",
        "\n",
        "    while frontier:\n",
        "        (cost, node) = heappop(frontier)\n",
        "        if node == end:\n",
        "          break\n",
        "        if node not in gScore.keys():\n",
        "          gScore[node] = 99999\n",
        "        for v in get_neighbours(node):\n",
        "          if v not in gScore.keys():\n",
        "            gScore[v] = 99999\n",
        "          new_gScore = gScore[node] + 1\n",
        "          if new_gScore < gScore[v]:\n",
        "            discovered[v] = (node, new_gScore)\n",
        "            gScore[v] = new_gScore\n",
        "            fScore[v] = gScore[v] + h(v, end)\n",
        "            if (_, v) not in frontier:\n",
        "              heappush(frontier, ((new_gScore + h(v, end)), v))\n",
        "          \n",
        "    \n",
        "    cost_map = [[discovered[(r,c)][1] if (r,c) in discovered else 0 for c in range(width)]for r in range(height)]\n",
        "    pyplot.imshow(cost_map , cmap='Greys', interpolation='nearest');\n",
        "    # Refacem drumul folosind parintii\n",
        "    path = []\n",
        "    parent = discovered[end][0]\n",
        "    path.append(end)\n",
        "    while parent is not None:\n",
        "      path.append(parent)\n",
        "      parent = discovered[parent][0]\n",
        "    path.reverse()\n",
        "    return path # drumul, ca listă de poziții"
      ],
      "execution_count": 109,
      "outputs": []
    },
    {
      "cell_type": "code",
      "metadata": {
        "id": "Plsr_oqEoZPo",
        "outputId": "f20bfa4d-3ea9-4319-b6a4-a00e616f5f89",
        "colab": {
          "base_uri": "https://localhost:8080/",
          "height": 470
        }
      },
      "source": [
        "astar(start, final, euclidean_distance)"
      ],
      "execution_count": 110,
      "outputs": [
        {
          "output_type": "execute_result",
          "data": {
            "text/plain": [
              "[(5, 5),\n",
              " (5, 4),\n",
              " (5, 3),\n",
              " (5, 2),\n",
              " (5, 1),\n",
              " (6, 1),\n",
              " (7, 1),\n",
              " (7, 2),\n",
              " (7, 3),\n",
              " (7, 4),\n",
              " (7, 5),\n",
              " (7, 6),\n",
              " (7, 7),\n",
              " (7, 8),\n",
              " (8, 8)]"
            ]
          },
          "metadata": {
            "tags": []
          },
          "execution_count": 110
        },
        {
          "output_type": "display_data",
          "data": {
            "image/png": "[encoded data removed]",
            "text/plain": [
              "<Figure size 432x288 with 1 Axes>"
            ]
          },
          "metadata": {
            "tags": [],
            "needs_background": "light"
          }
        }
      ]
    },
    {
      "cell_type": "code",
      "metadata": {
        "id": "_QtR4-m-oZPq",
        "outputId": "90238d75-02f5-4848-feb4-cf2245163e0b",
        "colab": {
          "base_uri": "https://localhost:8080/",
          "height": 470
        }
      },
      "source": [
        "astar(start, final, manhattan_distance)"
      ],
      "execution_count": 111,
      "outputs": [
        {
          "output_type": "execute_result",
          "data": {
            "text/plain": [
              "[(5, 5),\n",
              " (4, 5),\n",
              " (3, 5),\n",
              " (2, 5),\n",
              " (1, 5),\n",
              " (1, 6),\n",
              " (1, 7),\n",
              " (1, 8),\n",
              " (2, 8),\n",
              " (3, 8),\n",
              " (4, 8),\n",
              " (5, 8),\n",
              " (6, 8),\n",
              " (7, 8),\n",
              " (8, 8)]"
            ]
          },
          "metadata": {
            "tags": []
          },
          "execution_count": 111
        },
        {
          "output_type": "display_data",
          "data": {
            "image/png": "[encoded data removed]",
            "text/plain": [
              "<Figure size 432x288 with 1 Axes>"
            ]
          },
          "metadata": {
            "tags": [],
            "needs_background": "light"
          }
        }
      ]
    }
  ]
}