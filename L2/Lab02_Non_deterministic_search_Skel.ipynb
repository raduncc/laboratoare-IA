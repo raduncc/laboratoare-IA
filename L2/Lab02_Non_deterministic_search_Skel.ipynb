{
  "nbformat": 4,
  "nbformat_minor": 0,
  "metadata": {
    "kernelspec": {
      "display_name": "Python 3",
      "language": "python",
      "name": "python3"
    },
    "language_info": {
      "codemirror_mode": {
        "name": "ipython",
        "version": 3
      },
      "file_extension": ".py",
      "mimetype": "text/x-python",
      "name": "python",
      "nbconvert_exporter": "python",
      "pygments_lexer": "ipython3",
      "version": "3.7.2"
    },
    "colab": {
      "name": "Lab02-Non-deterministic-search-Skel.ipynb",
      "provenance": [],
      "collapsed_sections": []
    }
  },
  "cells": [
    {
      "cell_type": "markdown",
      "metadata": {
        "id": "LS-Vm1iqAPtn"
      },
      "source": [
        "## Inteligență Artificială - Laboratorul 2 : Căutare nedeterministă\n",
        "  - Andrei Olaru <cs@andreiolaru.ro>\n",
        "  - Tudor Berariu <tudor.berariu@gmail.com>"
      ]
    },
    {
      "cell_type": "markdown",
      "metadata": {
        "id": "ZDQl4C0yAPtp"
      },
      "source": [
        "### Scopul laboratorului\n",
        "\n",
        "Familiarizarea cu probleme mai avansate de căutare în spațiul stărilor, nedeterminism, introducere în planificare, și lucrul cu arbori ȘI-SAU."
      ]
    },
    {
      "cell_type": "markdown",
      "metadata": {
        "id": "iiowaQMyAPtq"
      },
      "source": [
        "### Problema\n",
        "\n",
        "Rezolvăm problema aspiratorului nedeterminist.\n",
        "\n",
        "#### Problema aspiratorului determinist\n",
        "\n",
        "Avem un aspirator care trebuie să realizeze un plan pentru aspirarea într-un spațiu (unidimensional). Aspiratorul poate realiza operațiile Dreapta, Stânga, Curăță.\n",
        "\n",
        "#### Problema aspiratorului nedeterminist\n",
        "\n",
        "Aspiratorul nedeterminist are următoarea comportare:\n",
        "* atunci când curăță o celulă murdară, celula va fi ulterior curată și este posibil ca și celula din dreapta ei să devină curată\n",
        "* atunci când curăță o celulă curată, celula poate rămâne curată sau poate deveni murdară."
      ]
    },
    {
      "cell_type": "markdown",
      "metadata": {
        "id": "RDBV1QjAAPtr"
      },
      "source": [
        "### Setup\n",
        "\n",
        "Vom lucra inițial într-un de 2 celule (coordonate 0, 0 și 1, 0) iar apoi putem extinde la 3, 4 sau 5 celule. Mediul este inițial murdar. Se pornește din 0, 0.\n",
        "\n",
        "Ne vom referi cu termenii **stare / state** la starea (coordonatele) aspiratorului, și cu **mediu / env(ironment)** la starea mediului."
      ]
    },
    {
      "cell_type": "code",
      "metadata": {
        "id": "DxlPf5UHAPts"
      },
      "source": [
        "# Dimensiunea mediului\n",
        "width = 2\n",
        "height = 1\n",
        "\n",
        "# Inițial, întreg spațiul este murdar.\n",
        "env = [[1 for x in range(width)] for y in range(height)]\n",
        "\n",
        "start = (0, 0)\n",
        "#env[start[1]][start[0]] = 0"
      ],
      "execution_count": 34,
      "outputs": []
    },
    {
      "cell_type": "markdown",
      "metadata": {
        "id": "evjKinrbAPtw"
      },
      "source": [
        "#### Mișcări\n",
        "\n",
        "Avem la dispoziție 3 mișcări. Efectul lor asupra stării aspiratorului și asupra mediului este descris în cele două arrayuri effectD/N, dar nu este necesar să intrăm în detaliile lor."
      ]
    },
    {
      "cell_type": "code",
      "metadata": {
        "id": "JRyeRkK_APtx"
      },
      "source": [
        "moves = ['Left', 'Right', 'Clean']\n",
        "\n",
        "# efect is a tuple of:\n",
        "#  delta-x\n",
        "#  delta-y\n",
        "#  cleanness of current cell if current cell was clean\n",
        "#  cleanness of cell to the right if current cell was clean\n",
        "#  cleanness of current cell if current cell was dirty\n",
        "#  cleanness of cell to the right if current cell was dirty\n",
        "\n",
        "# deterministic effects:\n",
        "effectD = {}\n",
        "effectD['Left'] = [(-1, 0, -1, -1, -1, -1)]\n",
        "effectD['Right'] = [(+1, 0, -1, -1, -1, -1)]\n",
        "effectD['Clean'] = [(0, 0, 0, -1, 0, -1)]\n",
        "\n",
        "# non-deterministic effects:\n",
        "effectN = {}\n",
        "effectN['Left'] = effectD['Left']\n",
        "effectN['Right'] = effectD['Right']\n",
        "effectN['Clean'] = [(0, 0, 0, -1, 0, -1), (0, 0, 1, -1, 0, 0)]\n"
      ],
      "execution_count": 35,
      "outputs": []
    },
    {
      "cell_type": "markdown",
      "metadata": {
        "id": "T7xflL53APt0"
      },
      "source": [
        "#### Funcții utile\n",
        "\n",
        "* `is_good` -- verifică dacă un tuplu de coordonate este valid. Nu ar trebui să fie necesar să o folosiți explicit\n",
        "* `env_clean` -- verifică dacă mediul este complet curat\n",
        "* `compute_effectD` și `compute_effectN` -- pornind de la o stare și un mediu, se calculează efectul mișcării date și se întoarce o listă de posibile efecte (poate fi nulă), ca tupluri (stare, mediu). Valorile întoarse sunt instanțe **noi**\n",
        " * vedeți și exemplele de la sfârșitul celulei."
      ]
    },
    {
      "cell_type": "code",
      "metadata": {
        "id": "iW5zITEtAPt1",
        "outputId": "cc2bd8f7-65db-4ce2-f762-4ee75c077acc",
        "colab": {
          "base_uri": "https://localhost:8080/",
          "height": 85
        }
      },
      "source": [
        "import operator\n",
        "from functools import reduce\n",
        "\n",
        "# Întoarce adevărat dacă celula este o celul în interiorul spațiului.\n",
        "def is_good(state):\n",
        "    return state[0] >= 0 and state[0] < width and state[1] >= 0 and state[1] < height\n",
        "\n",
        "# Întoarce adevărat dacă toate celulele din mediu sunt curate.\n",
        "def env_clean(env):    return 0 == len(list(filter(lambda x: x > 0, reduce(operator.add, env, []))))\n",
        "\n",
        "# Întoarce o listă de tupluri (stare-nouă, mediu-nou), conținând ca singur element efectul\n",
        "#    realizării mutării deterministe specificate. Dacă mutarea nu poate fi realizată, lista este nulă.\n",
        "# Mediul întors este o copie (instanță nouă) a parametrului dat.\n",
        "def compute_effectD(state, env, move):\n",
        "    return compute_effects(state, env, move, effectD)\n",
        "    \n",
        "# Întoarce o listă de tupluri (stare-nouă, mediu-nou), conținând efectele realizării mutării nedeterministe specificate.\n",
        "# Lista poate conține zero (dacă mutarea nu este posibilă), unul sau mai multe elemente distincte.\n",
        "# Mediul întors este o copie (instanță nouă) a parametrului dat.\n",
        "def compute_effectN(state, env, move):\n",
        "    return compute_effects(state, env, move, effectN)\n",
        "    \n",
        "def compute_effects(state, env, move, effects):\n",
        "    effects = [compute_effect(state, env, effect) for effect in effects[move]]\n",
        "    effects = list(filter(lambda e: e is not None, effects))\n",
        "    if len(effects) == 2 and effects[0] == effects[1]:\n",
        "        return effects[:1]\n",
        "    return effects\n",
        "    \n",
        "def compute_effect(state, env, effect):\n",
        "    new_env = [line[:] for line in env]\n",
        "    (x, y) = state\n",
        "    new_state = tuple([state[idx] + effect[idx] for idx in range(2)])\n",
        "    if not is_good(new_state):\n",
        "        return None\n",
        "    \n",
        "    for d in range(2):\n",
        "        clean_effect = effect[2 + d + env[y][x] * 2]\n",
        "        if clean_effect >= 0 and is_good((x + d, y)):\n",
        "            new_env[y][x + d] = clean_effect\n",
        "    return (new_state, new_env)\n",
        "        \n",
        "\n",
        "printX = 1\n",
        "print(env_clean(env))\n",
        "print([compute_effectD((printX, 0), env, m) for m in  moves])\n",
        "print(compute_effectD((printX, 0), env, 'Clean'))\n",
        "print(compute_effectN((printX, 0), env, 'Clean'))"
      ],
      "execution_count": 36,
      "outputs": [
        {
          "output_type": "stream",
          "text": [
            "False\n",
            "[[((0, 0), [[1, 1]])], [], [((1, 0), [[1, 0]])]]\n",
            "[((1, 0), [[1, 0]])]\n",
            "[((1, 0), [[1, 0]])]\n"
          ],
          "name": "stdout"
        }
      ]
    },
    {
      "cell_type": "markdown",
      "metadata": {
        "id": "kkOF_WhUAPt5"
      },
      "source": [
        "#### Afișare arbore\n",
        "\n",
        "Funcțiile `printTree` și `printNode` presupun că nodurile sunt structurate ca o lista de 6 elemente:\n",
        "* tipul care este fie acțiunea aleasă (din părinte), pentru nodurile ȘI, sau `\"OR\"`, pentru nodurile SAU\n",
        "* starea curentă (într-un nod și va fi aceeași cu cea din părinte, pentru că încă nu știm ce efect se va aplica)\n",
        "* starea mediului (aceeași observație ca mai sus)\n",
        "* lista de copii -- copii vor fi dați ca noduri; practic, un nod va conține în reprezentare întreg subarborele său\n",
        "* etichetă -- etichetele pot fi alese oricum, valorile recomandate fiind `None`, `LOOP` și `SUCCESS`\n",
        "* calea din rădăcina arborelui până la nodul curent (inclusiv), dată, de exemplu, ca tupluri (stare, mediu)"
      ]
    },
    {
      "cell_type": "code",
      "metadata": {
        "id": "9p4mEsORAPt5"
      },
      "source": [
        "TYPE = 0\n",
        "STATE = 1\n",
        "ENV = 2\n",
        "CHILDREN = 3\n",
        "TAG = 4\n",
        "PATH = 5\n",
        "\n",
        "#%matplotlib inline\n",
        "#import matplotlib.pyplot as pyplot\n",
        "#import networkx as nx\n",
        "\n",
        "counter = 0\n",
        "labels = {}\n",
        "nodes = []\n",
        "edges = []\n",
        "\n",
        "\n",
        "# reprezentăm un nod din arbore ca o listă\n",
        "# [move, state, environment, children, tag(None/SUCCESS/LOOP), path]\n",
        "# formată din mutarea realizată în nodul părinte, stare în urma mutării, starea mediului în urma mutării,\n",
        "#   lista de copii ai nodului (tot noduri), etichetă, reprezentare a căii din rădăcină până în nod\n",
        "\n",
        "\n",
        "# afișează un arbore format din noduri definite ca mai sus (se dă rădăcina arborelui, care conține și copiii, etc)\n",
        "# parametrul onlyOR indică dacă arborele este format doar din noduri SAU (altfel, este interpretat ca arbore ȘI-SAU)\n",
        "def printTree(root, onlyOR = True):\n",
        "    #G=nx.Graph()\n",
        "    \n",
        "    printTreeEx(root, 0, onlyOR, None)\n",
        "    \n",
        "    #G.add_nodes_from(nodes)\n",
        "    #G.add_edges_from(edges)\n",
        "    #nx.draw(G)\n",
        "    #pyplot.show() # display\n",
        "    \n",
        "def printTreeEx(node, indent, onlyOR, parent):\n",
        "    global counter\n",
        "    line = \"\"\n",
        "    for i in range(indent):\n",
        "        line += \"   \"\n",
        "    if node[TYPE] == \"OR\":\n",
        "        line += \"|  \"\n",
        "        line += str(node[STATE]) + \" : \" + str(node[ENV])\n",
        "    else:\n",
        "        line += \". \" + node[TYPE] + \" -> \"\n",
        "        if onlyOR:\n",
        "            line += str(node[STATE]) + \" : \" + str(node[ENV])\n",
        "    if node[TAG] is not None:\n",
        "        line += \" \" + node[TAG]\n",
        "    print(line)\n",
        "    counter += 1\n",
        "    nodes.append(counter)\n",
        "    if parent is not None:\n",
        "        edges.append((parent, counter))\n",
        "    labels[counter] = line\n",
        "    for child in node[CHILDREN]:\n",
        "        printTreeEx(child, indent + 1, onlyOR, node)\n",
        "        \n",
        "def printNode(node):\n",
        "    tag = \"\"\n",
        "    if node[TAG] is not None:\n",
        "        tag = node[TAG]\n",
        "    print(str(node[TYPE]) + \" : \" + str(node[STATE]) + \" : \" + str(node[ENV]) + \" (\" + str(len(node[CHILDREN])) + \") [\" + tag + \"]\")\n",
        "    \n",
        "\n"
      ],
      "execution_count": 37,
      "outputs": []
    },
    {
      "cell_type": "markdown",
      "metadata": {
        "id": "L-yN59vAAPt8"
      },
      "source": [
        "### Task 1\n",
        "\n",
        "Implementați funcția `makeTree` pentru a parcurge **complet** stările problemei, pornind de la starea dată pentru aspirator și mediu. Funcția trebuie să întoarcă arborele ȘI-SAU corespunzător."
      ]
    },
    {
      "cell_type": "code",
      "metadata": {
        "id": "37Bc5oirAPt9",
        "outputId": "383f5611-4ccd-4cb0-af2d-c7c2fa097d36",
        "colab": {
          "base_uri": "https://localhost:8080/"
        }
      },
      "source": [
        "# Întoarce un arbore al căutării în spațiul env, pornind din starea start\n",
        "\n",
        "# TYPE = 0\n",
        "# STATE = 1\n",
        "# ENV = 2\n",
        "# CHILDREN = 3\n",
        "# TAG = 4\n",
        "# PATH = 5\n",
        "\n",
        "\n",
        "# tipul care este fie acțiunea aleasă (din părinte), pentru nodurile ȘI, sau \"OR\", pentru nodurile SAU\n",
        "# starea curentă (într-un nod și va fi aceeași cu cea din părinte, pentru că încă nu știm ce efect se va aplica)\n",
        "# starea mediului (aceeași observație ca mai sus)\n",
        "# lista de copii -- copii vor fi dați ca noduri; practic, un nod va conține în reprezentare întreg subarborele său\n",
        "# etichetă -- etichetele pot fi alese oricum, valorile recomandate fiind None, LOOP și SUCCESS\n",
        "# calea din rădăcina arborelui până la nodul curent (inclusiv), dată, de exemplu, ca tupluri (stare, mediu)\n",
        "\n",
        "def makeTree(start, env):\n",
        "    \n",
        "    root = [\"OR\", start, env, [], None, [(start, env)]]\n",
        "\n",
        "    #TODO\n",
        "    \n",
        "    frontier = [root]\n",
        "\n",
        "    while True:\n",
        "\n",
        "      if frontier == []:\n",
        "        break\n",
        "      current_node = frontier.pop(0)\n",
        "\n",
        "      if env_clean(current_node[ENV]):\n",
        "        current_node[TAG]='SUCCESS'\n",
        "        continue\n",
        "\n",
        "      if current_node[TYPE]=='OR':\n",
        "        for action in moves:\n",
        "          state = [action, current_node[STATE], current_node[ENV], [], None, current_node[PATH]]\n",
        "          effects = compute_effectN(state[STATE], state[ENV], state[TYPE])\n",
        "          if effects == []:\n",
        "            continue\n",
        "          current_node[CHILDREN].append(state)\n",
        "          frontier.append(state)\n",
        "      else:\n",
        "        effects = compute_effectN(current_node[STATE], current_node[ENV], current_node[TYPE])\n",
        "        for effect in effects:\n",
        "          state = ['OR', effect[0], effect[1], [], None, current_node[PATH] + [effect]]\n",
        "          current_node[CHILDREN].append(state)\n",
        "          if env_clean(current_node[ENV]):\n",
        "            state[TAG]='SUCCESS'\n",
        "          elif effect in current_node[PATH]:\n",
        "            state[TAG]='LOOP'\n",
        "          else:\n",
        "            frontier.append(state)\n",
        "\n",
        "    return root\n",
        "\n",
        "\n",
        "tree = makeTree(start, env)\n",
        "#print(tree)\n",
        "printTree(tree, False)\n",
        "        "
      ],
      "execution_count": 38,
      "outputs": [
        {
          "output_type": "stream",
          "text": [
            "|  (0, 0) : [[1, 1]]\n",
            "   . Right -> \n",
            "      |  (1, 0) : [[1, 1]]\n",
            "         . Left -> \n",
            "            |  (0, 0) : [[1, 1]] LOOP\n",
            "         . Clean -> \n",
            "            |  (1, 0) : [[1, 0]]\n",
            "               . Left -> \n",
            "                  |  (0, 0) : [[1, 0]]\n",
            "                     . Right -> \n",
            "                        |  (1, 0) : [[1, 0]] LOOP\n",
            "                     . Clean -> \n",
            "                        |  (0, 0) : [[0, 0]] SUCCESS\n",
            "               . Clean -> \n",
            "                  |  (1, 0) : [[1, 0]] LOOP\n",
            "                  |  (1, 0) : [[1, 1]] LOOP\n",
            "   . Clean -> \n",
            "      |  (0, 0) : [[0, 1]]\n",
            "         . Right -> \n",
            "            |  (1, 0) : [[0, 1]]\n",
            "               . Left -> \n",
            "                  |  (0, 0) : [[0, 1]] LOOP\n",
            "               . Clean -> \n",
            "                  |  (1, 0) : [[0, 0]] SUCCESS\n",
            "         . Clean -> \n",
            "            |  (0, 0) : [[0, 1]] LOOP\n",
            "            |  (0, 0) : [[1, 1]] LOOP\n",
            "      |  (0, 0) : [[0, 0]] SUCCESS\n"
          ],
          "name": "stdout"
        }
      ]
    },
    {
      "cell_type": "markdown",
      "metadata": {
        "id": "9QVopVD0APuA"
      },
      "source": [
        "### Task 2\n",
        "\n",
        "Implementați funcția `makePlan`, care bazat pe un arbore ȘI-SAU întoarce reprezentarea textuală a unui plan care rezolvă problema."
      ]
    },
    {
      "cell_type": "code",
      "metadata": {
        "id": "SQ9sfxkBAPuB",
        "outputId": "005ab743-660f-4426-833a-5bdb6537f47f",
        "colab": {
          "base_uri": "https://localhost:8080/",
          "height": 54
        }
      },
      "source": [
        "# Întoarce un plan de acțiuni care, conform arborelui ȘI-SAU dat, duc la realizarea scopului. Planul este textual.\n",
        "# Exemplu: \"Clean; if env is [0, 0] then [DONE]; if env is [0, 1] then [Right; Clean]\"\n",
        "\n",
        "\n",
        "## functiile de inspectare din pdf-ul laboratorului 2\n",
        "\n",
        "def inspectareSAU(stare, cale):\n",
        "  if stare[TAG]=='SUCCESS':\n",
        "    return 'done'\n",
        "  if stare in cale:\n",
        "    return 'fail'\n",
        "  for actiuni in stare[CHILDREN]:\n",
        "    plan = inspectareSI(actiuni, [stare, cale])\n",
        "    if plan != 'fail':\n",
        "      return actiuni[TYPE] + ' ; ' + plan\n",
        "  return 'fail'\n",
        "\n",
        "def inspectareSI(stare, cale):\n",
        "  plan_final = ''\n",
        "  for actiuni in stare[CHILDREN]:\n",
        "    plan = inspectareSAU(actiuni, cale)\n",
        "    if plan == 'fail':\n",
        "      return 'fail'\n",
        "    plan_final += 'if env is: ' + str(actiuni[ENV]) + ' then ' + plan\n",
        "  return plan_final\n",
        "\n",
        "\n",
        "def makePlan(node):\n",
        "  plan = inspectareSAU(node, [])\n",
        "  return plan\n",
        "\n",
        "\n",
        "makePlan(tree)"
      ],
      "execution_count": 39,
      "outputs": [
        {
          "output_type": "execute_result",
          "data": {
            "application/vnd.google.colaboratory.intrinsic+json": {
              "type": "string"
            },
            "text/plain": [
              "'Right ; if env is: [[1, 1]] then Clean ; if env is: [[1, 0]] then Left ; if env is: [[1, 0]] then Clean ; if env is: [[0, 0]] then done'"
            ]
          },
          "metadata": {
            "tags": []
          },
          "execution_count": 39
        }
      ]
    },
    {
      "cell_type": "code",
      "metadata": {
        "id": "lvOfvxZeAPuE"
      },
      "source": [
        ""
      ],
      "execution_count": 39,
      "outputs": []
    }
  ]
}